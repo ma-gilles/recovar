{
 "cells": [
  {
   "cell_type": "code",
   "execution_count": null,
   "metadata": {},
   "outputs": [
    {
     "name": "stderr",
     "output_type": "stream",
     "text": [
      "/Users/marcaurele/research/recovar/recovar/EM_iteration.py:165: UserWarning: Explicitly requested dtype float64 requested in zeros is not available, and will be truncated to dtype float32. To enable more dtypes, set the jax_enable_x64 configuration option or the JAX_ENABLE_X64 shell environment variable. See https://github.com/google/jax#current-gotchas for more.\n",
      "  images_probs = jnp.zeros( image_size, dtype = probabilities.dtype)\n"
     ]
    }
   ],
   "source": [
    "from importlib import reload\n",
    "from recovar import EM_iteration as em\n",
    "reload(em)\n",
    "from recovar import mask\n",
    "import numpy as np\n",
    "import jax\n",
    "from recovar.fourier_transform_utils import fourier_transform_utils\n",
    "ftu = fourier_transform_utils(jax.numpy)\n",
    "\n",
    "n = 16\n",
    "\n",
    "translations = np.array([[0,0], [0,1]])#[0:1]\n",
    "probabilities = np.array([0.3, 0.7])#[0:1]\n",
    "translations = np.array([[0,0], [0,1]])#[1:2]\n",
    "probabilities = np.array([0.3, 0.7])#[1:2]\n",
    "\n",
    "image_shape = (n,n)\n",
    "images_ift = mask.get_radial_mask(image_shape)\n",
    "images = ftu.get_dft2(images_ift)\n",
    "image_shape = images.shape\n",
    "\n",
    "zz = em.sum_up_translate_one_image(images, probabilities, translations, image_shape, translation_fn= \"nofft\").reshape(image_shape)\n",
    "zz_ift = ftu.get_idft2(zz)\n",
    "\n",
    "zz2 = em.sum_up_translate_one_image(images, probabilities, translations, image_shape, translation_fn= \"fft\").reshape(image_shape)\n",
    "zz2_ift = ftu.get_idft2(zz2)\n"
   ]
  },
  {
   "cell_type": "code",
   "execution_count": 38,
   "metadata": {},
   "outputs": [
    {
     "data": {
      "text/plain": [
       "Array(8.494914e-08, dtype=float32)"
      ]
     },
     "execution_count": 38,
     "metadata": {},
     "output_type": "execute_result"
    }
   ],
   "source": [
    "import jax.numpy as jnp\n",
    "grid_points = jnp.array( [[0.1, 0.2, 0.4]])\n",
    "\n",
    "x_low = jnp.floor(grid_points).astype(int)\n",
    "x_high = x_low + 1\n",
    "weight_low = grid_points - x_low\n",
    "weight_high = 1 - weight_low\n",
    "\n",
    "xs = jnp.stack( [x_low, x_high], axis=-1)[0]\n",
    "\n",
    "# def get_nearby_grid\n",
    "def meshgrid_one(xs):\n",
    "    # This is all to have to avoid writing 8 statements, which could be a poor decision?\n",
    "    z = jnp.meshgrid(*xs, indexing=\"ij\")\n",
    "    return jnp.stack(z, axis=-1).reshape(-1, len(z)) #jnp.concatenate(z)\n",
    "\n",
    "def get_stencil(dim):\n",
    "    if dim==2:\n",
    "        return jnp.array([[0, 0], [0,1], [1,0], [1,1]], dtype = int)\n",
    "    if dim==3:\n",
    "        return jnp.array([[0, 0, 0], [0, 0,1], [0, 1,0], [0, 1,1], \\\n",
    "                         [1, 0, 0], [1, 0,1], [1, 1,0], [1, 1,1]] , dtype = int)\n",
    "\n",
    "from recovar.core import *\n",
    "\n",
    "def get_trilinear_weights_and_vol_indices(grid_coords, volume_shape):\n",
    "\n",
    "    # lower_grid_points = jnp.floor(grid_points).astype(int)\n",
    "    lower_points_ndim = grid_coords.ndim-1\n",
    "    all_grid_points = jnp.floor(grid_coords).astype(int)[...,None,:] + get_stencil(grid_coords.shape[-1]).reshape( [*(lower_points_ndim * [1]), 8,3])\n",
    "\n",
    "    # This feels right, but is it?\n",
    "    # all_weights = jnp.linalg.norm(all_grid_points - grid_coords[...,None,:], axis=-1)**2\n",
    "    # all_weights /= jnp.linalg.norm(all_weights, axis=-1, keepdims=True)\n",
    "\n",
    "    # This feels right, but is it?\n",
    "    all_weights = jnp.prod(1 - jnp.abs(all_grid_points - grid_coords[...,None,:]), axis=-1)#**2\n",
    "    # all_weights /= jnp.linalg.norm(all_weights, axis=-1, keepdims=True)\n",
    "\n",
    "    # Zero-out out of bound for good measure.\n",
    "    good_points = check_vol_indices_in_bound(all_grid_points, volume_shape[0])\n",
    "    all_weights *= good_points\n",
    "\n",
    "    return all_grid_points, all_weights\n",
    "\n",
    "\n",
    "# @functools.partial(jax.jit, static_argnums = [2,3,4])    \n",
    "def slice_volume_by_trilinear(volume, rotation_matrices, image_shape, volume_shape):    \n",
    "    grid_coords, grid_coords_og_shape = rotations_to_grid_point_coords(rotation_matrices, image_shape, volume_shape)\n",
    "    grid_points, weights = get_trilinear_weights_and_vol_indices(grid_coords.T, volume_shape)\n",
    "    grid_vec_indices = vol_indices_to_vec_indices( grid_points, volume_shape)\n",
    "    sliced_volume = jnp.sum(volume[grid_vec_indices.reshape(-1)].reshape(grid_vec_indices.shape) * weights, axis=-1)\n",
    "    return sliced_volume.reshape(grid_coords_og_shape[:-1])\n",
    "\n",
    "\n",
    "# @functools.partial(jax.jit, static_argnums = [2,3,4])    \n",
    "## UNTESTED\n",
    "def adjoint_slice_volume_by_trilinear(images, rotation_matrices, image_shape, volume_shape, volume = None):    \n",
    "    grid_coords, _ = rotations_to_grid_point_coords(rotation_matrices, image_shape, volume_shape)\n",
    "    grid_points, weights = get_trilinear_weights_and_vol_indices(grid_coords.T, volume_shape)\n",
    "    grid_vec_indices = vol_indices_to_vec_indices( grid_points, volume_shape)\n",
    "    if volume is None:\n",
    "        volume = jnp.zeros(np.prod(volume_shape), dtype = images.dtype)\n",
    "    weights *= images.reshape(-1,1)\n",
    "    volume = volume.at[grid_vec_indices.reshape(-1)].set(weights.reshape(-1))\n",
    "    return volume\n",
    "\n",
    "# This is actually pretty stupid. Can just loop over labels...\n",
    "## UNTESTED too. This is to speed up heterogeneity reconstruction\n",
    "def adjoint_slice_multi_volume_by_trilinear(images, rotation_matrices, het, image_shape, volume_shape, het_shape, volume = None):    \n",
    "    grid_coords, _ = rotations_to_grid_point_coords(rotation_matrices, image_shape, volume_shape)\n",
    "    grid_points, weights = get_trilinear_weights_and_vol_indices(grid_coords.T, volume_shape)\n",
    "    grid_vec_indices = multi_vol_indices_to_multi_vec_indices( grid_points, het, volume_shape, het_shape)\n",
    "\n",
    "    if volume is None:\n",
    "        volumes = jnp.zeros(np.prod(volume_shape) * het_shape, dtype = images.dtype)\n",
    "    weights *= images.reshape(-1,1)\n",
    "    volumes = volumes.at[grid_vec_indices.reshape(-1)].set(weights.reshape(-1))\n",
    "    return volumes\n",
    "\n",
    "\n",
    "\n",
    "grid_points = jnp.array([[ 2.1, 2.4, 3.7],[ 0.1, 0.2, 0.3]])\n",
    "\n",
    "\n",
    "# lower_points = jnp.floor(grid_points).astype(int)\n",
    "# lower_points_ndim = lower_points.ndim-1\n",
    "# all_points = lower_points[...,None,:] + get_stencil(grid_points.shape[-1]).reshape( [*(lower_points_ndim * [1]), 8,3])\n",
    "# # This feels right, but is it?\n",
    "# all_weights = jnp.linalg.norm(all_points - grid_points[...,None,:], axis=-1)**2\n",
    "# all_weights /= jnp.linalg.norm(all_weights, axis=-1, keepdims=True)\n",
    "grid_size = 8\n",
    "volume = np.random.randn(grid_size**3)\n",
    "# from recovar.simulator import \n",
    "rot = np.array([[[ 1, 0, 0], [0,1,0], [0,0,1]]])\n",
    "from recovar import simulator\n",
    "rot = simulator.uniform_rotation_sampling(2, 0, seed = 0 )\n",
    "all_points, all_weights =  get_trilinear_weights_and_vol_indices(grid_points, [10,10,10])\n",
    "# meshgrid_indices = jax.vmap(meshgrid_one, in_axes=(-1))\n",
    "vol_shape = tuple(3 * [grid_size])\n",
    "image_shape = tuple(2 * [grid_size])\n",
    "zz = slice_volume_by_trilinear(volume, rot, image_shape, vol_shape)\n",
    "zz2 = slice_volume_by_map(volume, rot, image_shape, vol_shape, 'linear_interp')\n",
    "\n",
    "zz3 = adjoint_slice_volume_by_trilinear(zz, rot, image_shape, vol_shape)\n",
    "# zz2 = slice_volume_by_map(volume, rot, image_shape, vol_shape, 'linear_interp')\n",
    "\n",
    "jnp.linalg.norm(zz-zz2) / jnp.linalg.norm(zz2)"
   ]
  },
  {
   "cell_type": "code",
   "execution_count": null,
   "metadata": {},
   "outputs": [],
   "source": []
  },
  {
   "cell_type": "code",
   "execution_count": 29,
   "metadata": {},
   "outputs": [
    {
     "data": {
      "text/plain": [
       "<matplotlib.image.AxesImage at 0x7f80c3c52190>"
      ]
     },
     "execution_count": 29,
     "metadata": {},
     "output_type": "execute_result"
    },
    {
     "data": {
      "image/png": "[encoded data removed]",
      "text/plain": [
       "<Figure size 640x480 with 1 Axes>"
      ]
     },
     "metadata": {},
     "output_type": "display_data"
    },
    {
     "data": {
      "image/png": "[encoded data removed]",
      "text/plain": [
       "<Figure size 640x480 with 1 Axes>"
      ]
     },
     "metadata": {},
     "output_type": "display_data"
    }
   ],
   "source": [
    "import matplotlib.pyplot as plt\n",
    "plt.imshow(zz.reshape(image_shape))\n",
    "plt.figure()\n",
    "plt.imshow(zz2.reshape(image_shape))"
   ]
  },
  {
   "cell_type": "code",
   "execution_count": 23,
   "metadata": {},
   "outputs": [
    {
     "data": {
      "text/plain": [
       "Array([[ 0.47549075,  0.20941675, -0.33769992,  0.29687437,  0.60114866,\n",
       "        -0.81839645,  2.0158243 ,  0.        ,  0.5523861 ,  1.8434975 ,\n",
       "        -0.5246171 , -0.98534125,  1.4132837 ,  0.4771548 ,  0.910032  ,\n",
       "         0.        , -0.57368684,  1.2071528 , -0.24082638,  0.21318226,\n",
       "         0.21612678,  1.1485624 ,  0.18560179,  0.        , -0.30011225,\n",
       "        -0.02885382, -1.0509248 ,  0.8493402 , -0.5045329 ,  0.31250352,\n",
       "        -0.16659853,  0.        ,  0.42467546, -2.0265615 , -0.5387535 ,\n",
       "         1.5364498 ,  0.73498607, -0.87656766,  0.6049063 ,  0.        ,\n",
       "        -1.2997651 ,  1.6696273 , -0.84541637, -0.16033544, -0.79165524,\n",
       "         0.0560303 , -0.03373526,  0.        ,  1.0360807 , -2.1858633 ,\n",
       "         0.3629446 ,  1.6357268 ,  0.9577152 , -0.47367424,  1.0868788 ,\n",
       "         0.        ,  0.        ,  0.        ,  0.        ,  0.        ,\n",
       "         0.        ,  0.        ,  0.        ,  0.        ]],      dtype=float32)"
      ]
     },
     "execution_count": 23,
     "metadata": {},
     "output_type": "execute_result"
    }
   ],
   "source": [
    "zz"
   ]
  },
  {
   "cell_type": "code",
   "execution_count": 53,
   "metadata": {},
   "outputs": [
    {
     "data": {
      "text/plain": [
       "Array([[0.21935752, 0.08641357, 0.28582942, 0.15288548, 0.48524544,\n",
       "        0.35230142, 0.55171734, 0.41877335],\n",
       "       [0.04226387, 0.1630178 , 0.2233948 , 0.34414864, 0.2837717 ,\n",
       "        0.40452558, 0.46490264, 0.5856566 ]], dtype=float32)"
      ]
     },
     "execution_count": 53,
     "metadata": {},
     "output_type": "execute_result"
    }
   ],
   "source": [
    "all_weights"
   ]
  },
  {
   "cell_type": "code",
   "execution_count": 51,
   "metadata": {},
   "outputs": [
    {
     "data": {
      "text/plain": [
       "Array([[0.66000015, 0.26000005, 0.86      , 0.4599999 , 1.4600004 ,\n",
       "        1.0600001 , 1.6600002 , 1.26      ],\n",
       "       [0.14      , 0.53999996, 0.7400001 , 1.1399999 , 0.93999994,\n",
       "        1.3399998 , 1.5400001 , 1.94      ]], dtype=float32)"
      ]
     },
     "execution_count": 51,
     "metadata": {},
     "output_type": "execute_result"
    }
   ],
   "source": [
    "all_weights"
   ]
  },
  {
   "cell_type": "code",
   "execution_count": null,
   "metadata": {},
   "outputs": [],
   "source": []
  },
  {
   "cell_type": "code",
   "execution_count": 45,
   "metadata": {},
   "outputs": [
    {
     "data": {
      "text/plain": [
       "(2, 8, 3)"
      ]
     },
     "execution_count": 45,
     "metadata": {},
     "output_type": "execute_result"
    }
   ],
   "source": [
    "all_points.shape"
   ]
  },
  {
   "cell_type": "code",
   "execution_count": 21,
   "metadata": {},
   "outputs": [],
   "source": [
    "lower_points.shape\n",
    "lower_points_ndim = lower_points.ndim-1"
   ]
  },
  {
   "cell_type": "code",
   "execution_count": 42,
   "metadata": {},
   "outputs": [
    {
     "data": {
      "text/plain": [
       "Array([[[0, 0, 0],\n",
       "        [0, 0, 1],\n",
       "        [0, 1, 0],\n",
       "        [0, 1, 1],\n",
       "        [1, 0, 0],\n",
       "        [1, 0, 1],\n",
       "        [1, 1, 0],\n",
       "        [1, 1, 1]]], dtype=int32)"
      ]
     },
     "execution_count": 42,
     "metadata": {},
     "output_type": "execute_result"
    }
   ],
   "source": [
    "get_stencil(grid_points.shape[-1]).reshape( [*(lower_points_ndim * [1]), 8,3])"
   ]
  },
  {
   "cell_type": "code",
   "execution_count": 38,
   "metadata": {},
   "outputs": [],
   "source": [
    "z = 3 *[1]"
   ]
  },
  {
   "cell_type": "code",
   "execution_count": 28,
   "metadata": {},
   "outputs": [
    {
     "data": {
      "text/plain": [
       "[1, 1, 1]"
      ]
     },
     "execution_count": 28,
     "metadata": {},
     "output_type": "execute_result"
    }
   ],
   "source": [
    "z"
   ]
  },
  {
   "cell_type": "code",
   "execution_count": 14,
   "metadata": {},
   "outputs": [
    {
     "ename": "TypeError",
     "evalue": "array() got an unexpected keyword argument 'type'",
     "output_type": "error",
     "traceback": [
      "\u001b[0;31m---------------------------------------------------------------------------\u001b[0m",
      "\u001b[0;31mTypeError\u001b[0m                                 Traceback (most recent call last)",
      "Cell \u001b[0;32mIn[14], line 1\u001b[0m\n\u001b[0;32m----> 1\u001b[0m all_points \u001b[38;5;241m=\u001b[39m lower_points[\u001b[38;5;241m.\u001b[39m\u001b[38;5;241m.\u001b[39m\u001b[38;5;241m.\u001b[39m,\u001b[38;5;28;01mNone\u001b[39;00m] \u001b[38;5;241m+\u001b[39m \u001b[43mget_stencil\u001b[49m\u001b[43m(\u001b[49m\u001b[43mgrid_points\u001b[49m\u001b[38;5;241;43m.\u001b[39;49m\u001b[43mshape\u001b[49m\u001b[43m[\u001b[49m\u001b[38;5;241;43m-\u001b[39;49m\u001b[38;5;241;43m1\u001b[39;49m\u001b[43m]\u001b[49m\u001b[43m)\u001b[49m\u001b[38;5;241m.\u001b[39mreshape(lower_points\u001b[38;5;241m.\u001b[39mshape)\n",
      "Cell \u001b[0;32mIn[12], line 21\u001b[0m, in \u001b[0;36mget_stencil\u001b[0;34m(dim)\u001b[0m\n\u001b[1;32m     19\u001b[0m     \u001b[38;5;28;01mreturn\u001b[39;00m jnp\u001b[38;5;241m.\u001b[39marray([\u001b[38;5;241m0\u001b[39m, \u001b[38;5;241m0\u001b[39m], [\u001b[38;5;241m0\u001b[39m,\u001b[38;5;241m1\u001b[39m], [\u001b[38;5;241m1\u001b[39m,\u001b[38;5;241m0\u001b[39m], [\u001b[38;5;241m1\u001b[39m,\u001b[38;5;241m1\u001b[39m], \u001b[38;5;28mtype\u001b[39m \u001b[38;5;241m=\u001b[39m \u001b[38;5;28mint\u001b[39m)\n\u001b[1;32m     20\u001b[0m \u001b[38;5;28;01mif\u001b[39;00m dim\u001b[38;5;241m==\u001b[39m\u001b[38;5;241m3\u001b[39m:\n\u001b[0;32m---> 21\u001b[0m     \u001b[38;5;28;01mreturn\u001b[39;00m \u001b[43mjnp\u001b[49m\u001b[38;5;241;43m.\u001b[39;49m\u001b[43marray\u001b[49m\u001b[43m(\u001b[49m\u001b[43m[\u001b[49m\u001b[38;5;241;43m0\u001b[39;49m\u001b[43m,\u001b[49m\u001b[43m \u001b[49m\u001b[38;5;241;43m0\u001b[39;49m\u001b[43m,\u001b[49m\u001b[43m \u001b[49m\u001b[38;5;241;43m0\u001b[39;49m\u001b[43m]\u001b[49m\u001b[43m,\u001b[49m\u001b[43m \u001b[49m\u001b[43m[\u001b[49m\u001b[38;5;241;43m0\u001b[39;49m\u001b[43m,\u001b[49m\u001b[43m \u001b[49m\u001b[38;5;241;43m0\u001b[39;49m\u001b[43m,\u001b[49m\u001b[38;5;241;43m1\u001b[39;49m\u001b[43m]\u001b[49m\u001b[43m,\u001b[49m\u001b[43m \u001b[49m\u001b[43m[\u001b[49m\u001b[38;5;241;43m0\u001b[39;49m\u001b[43m,\u001b[49m\u001b[43m \u001b[49m\u001b[38;5;241;43m1\u001b[39;49m\u001b[43m,\u001b[49m\u001b[38;5;241;43m0\u001b[39;49m\u001b[43m]\u001b[49m\u001b[43m,\u001b[49m\u001b[43m \u001b[49m\u001b[43m[\u001b[49m\u001b[38;5;241;43m0\u001b[39;49m\u001b[43m,\u001b[49m\u001b[43m \u001b[49m\u001b[38;5;241;43m1\u001b[39;49m\u001b[43m,\u001b[49m\u001b[38;5;241;43m1\u001b[39;49m\u001b[43m]\u001b[49m\u001b[43m,\u001b[49m\u001b[43m \u001b[49m\u001b[43m\\\u001b[49m\n\u001b[1;32m     22\u001b[0m \u001b[43m                     \u001b[49m\u001b[43m[\u001b[49m\u001b[38;5;241;43m1\u001b[39;49m\u001b[43m,\u001b[49m\u001b[43m \u001b[49m\u001b[38;5;241;43m0\u001b[39;49m\u001b[43m,\u001b[49m\u001b[43m \u001b[49m\u001b[38;5;241;43m0\u001b[39;49m\u001b[43m]\u001b[49m\u001b[43m,\u001b[49m\u001b[43m \u001b[49m\u001b[43m[\u001b[49m\u001b[38;5;241;43m1\u001b[39;49m\u001b[43m,\u001b[49m\u001b[43m \u001b[49m\u001b[38;5;241;43m0\u001b[39;49m\u001b[43m,\u001b[49m\u001b[38;5;241;43m1\u001b[39;49m\u001b[43m]\u001b[49m\u001b[43m,\u001b[49m\u001b[43m \u001b[49m\u001b[43m[\u001b[49m\u001b[38;5;241;43m1\u001b[39;49m\u001b[43m,\u001b[49m\u001b[43m \u001b[49m\u001b[38;5;241;43m1\u001b[39;49m\u001b[43m,\u001b[49m\u001b[38;5;241;43m0\u001b[39;49m\u001b[43m]\u001b[49m\u001b[43m,\u001b[49m\u001b[43m \u001b[49m\u001b[43m[\u001b[49m\u001b[38;5;241;43m1\u001b[39;49m\u001b[43m,\u001b[49m\u001b[43m \u001b[49m\u001b[38;5;241;43m1\u001b[39;49m\u001b[43m,\u001b[49m\u001b[38;5;241;43m1\u001b[39;49m\u001b[43m]\u001b[49m\u001b[43m \u001b[49m\u001b[43m,\u001b[49m\u001b[43m \u001b[49m\u001b[38;5;28;43mtype\u001b[39;49m\u001b[43m \u001b[49m\u001b[38;5;241;43m=\u001b[39;49m\u001b[43m \u001b[49m\u001b[38;5;28;43mint\u001b[39;49m\u001b[43m)\u001b[49m\n",
      "\u001b[0;31mTypeError\u001b[0m: array() got an unexpected keyword argument 'type'"
     ]
    }
   ],
   "source": [
    "all_points = lower_points[...,None] + get_stencil(grid_points.shape[-1]).reshape(lower_points.shape)\n"
   ]
  },
  {
   "cell_type": "code",
   "execution_count": 13,
   "metadata": {},
   "outputs": [
    {
     "data": {
      "text/plain": [
       "Array([[2, 2, 3],\n",
       "       [0, 0, 0]], dtype=int32)"
      ]
     },
     "execution_count": 13,
     "metadata": {},
     "output_type": "execute_result"
    }
   ],
   "source": [
    "lower_points"
   ]
  },
  {
   "cell_type": "code",
   "execution_count": 11,
   "metadata": {},
   "outputs": [
    {
     "ename": "TypeError",
     "evalue": "zeros() takes from 1 to 2 positional arguments but 3 were given",
     "output_type": "error",
     "traceback": [
      "\u001b[0;31m---------------------------------------------------------------------------\u001b[0m",
      "\u001b[0;31mTypeError\u001b[0m                                 Traceback (most recent call last)",
      "Cell \u001b[0;32mIn[11], line 1\u001b[0m\n\u001b[0;32m----> 1\u001b[0m meshgrid_one(\u001b[43mjnp\u001b[49m\u001b[38;5;241;43m.\u001b[39;49m\u001b[43mzeros\u001b[49m\u001b[43m(\u001b[49m\u001b[38;5;241;43m0\u001b[39;49m\u001b[43m,\u001b[49m\u001b[38;5;241;43m0\u001b[39;49m\u001b[43m,\u001b[49m\u001b[38;5;241;43m0\u001b[39;49m\u001b[43m)\u001b[49m)\n",
      "\u001b[0;31mTypeError\u001b[0m: zeros() takes from 1 to 2 positional arguments but 3 were given"
     ]
    }
   ],
   "source": [
    "meshgrid_one(jnp.zeros(0,0,0))"
   ]
  },
  {
   "cell_type": "code",
   "execution_count": 10,
   "metadata": {},
   "outputs": [
    {
     "data": {
      "text/plain": [
       "Array([[0, 0, 0],\n",
       "       [0, 0, 1],\n",
       "       [0, 1, 0],\n",
       "       [0, 1, 1],\n",
       "       [1, 0, 0],\n",
       "       [1, 0, 1],\n",
       "       [1, 1, 0],\n",
       "       [1, 1, 1]], dtype=int32)"
      ]
     },
     "execution_count": 10,
     "metadata": {},
     "output_type": "execute_result"
    }
   ],
   "source": [
    "z"
   ]
  },
  {
   "cell_type": "code",
   "execution_count": 5,
   "metadata": {},
   "outputs": [],
   "source": [
    "z = meshgrid_one(xs)"
   ]
  },
  {
   "cell_type": "code",
   "execution_count": 6,
   "metadata": {},
   "outputs": [],
   "source": [
    "zz = jnp.meshgrid(*(xs.T), indexing=\"ij\")\n"
   ]
  },
  {
   "cell_type": "code",
   "execution_count": 7,
   "metadata": {},
   "outputs": [
    {
     "data": {
      "text/plain": [
       "array([[0, 1],\n",
       "       [0, 1],\n",
       "       [0, 1],\n",
       "       [0, 1],\n",
       "       [0, 1],\n",
       "       [0, 1],\n",
       "       [0, 1],\n",
       "       [0, 1],\n",
       "       [0, 1]], dtype=int32)"
      ]
     },
     "execution_count": 7,
     "metadata": {},
     "output_type": "execute_result"
    }
   ],
   "source": [
    "np.stack(zz, axis=-1).reshape(-1, len(zz))"
   ]
  },
  {
   "cell_type": "code",
   "execution_count": 51,
   "metadata": {},
   "outputs": [],
   "source": [
    "z = jnp.meshgrid(*xs.T)\n",
    "z2 = np.concatenate(z)"
   ]
  },
  {
   "cell_type": "code",
   "execution_count": 52,
   "metadata": {},
   "outputs": [
    {
     "data": {
      "text/plain": [
       "(6, 2, 2)"
      ]
     },
     "execution_count": 52,
     "metadata": {},
     "output_type": "execute_result"
    }
   ],
   "source": [
    "z2.shape"
   ]
  },
  {
   "cell_type": "code",
   "execution_count": 39,
   "metadata": {},
   "outputs": [
    {
     "data": {
      "text/plain": [
       "(2, 3)"
      ]
     },
     "execution_count": 39,
     "metadata": {},
     "output_type": "execute_result"
    }
   ],
   "source": [
    "xs.shape"
   ]
  },
  {
   "cell_type": "code",
   "execution_count": 37,
   "metadata": {},
   "outputs": [
    {
     "data": {
      "text/plain": [
       "(2, 3)"
      ]
     },
     "execution_count": 37,
     "metadata": {},
     "output_type": "execute_result"
    }
   ],
   "source": [
    "xs.shape"
   ]
  },
  {
   "cell_type": "code",
   "execution_count": 36,
   "metadata": {},
   "outputs": [
    {
     "data": {
      "text/plain": [
       "Array([[[0, 0],\n",
       "        [1, 1]],\n",
       "\n",
       "       [[0, 0],\n",
       "        [1, 1]],\n",
       "\n",
       "       [[0, 0],\n",
       "        [0, 0]],\n",
       "\n",
       "       [[1, 1],\n",
       "        [1, 1]],\n",
       "\n",
       "       [[0, 1],\n",
       "        [0, 1]],\n",
       "\n",
       "       [[0, 1],\n",
       "        [0, 1]]], dtype=int32)"
      ]
     },
     "execution_count": 36,
     "metadata": {},
     "output_type": "execute_result"
    }
   ],
   "source": [
    "jnp.concatenate(z)"
   ]
  },
  {
   "cell_type": "code",
   "execution_count": null,
   "metadata": {},
   "outputs": [],
   "source": [
    "# def get_nearby_grid\n",
    "def mesh_grid_one(x_grid):\n",
    "    z = jnp.meshgrid(low_high, low_high)\n",
    "    return jnp.concatenate()\n",
    "mesh_grid_coords = jax.vmap(mesh_grid_coords, in_axes=(-1))\n",
    "\n",
    "\n",
    "x_low = jnp.floor(grid_points).astype(int)\n",
    "x_high = x_low + 1\n",
    "weight_low = grid_points - x_low\n",
    "weight_high = 1 - weight_low\n",
    "\n",
    "xs = jnp.concatenate( [x_low, x_high])\n",
    "\n"
   ]
  },
  {
   "cell_type": "code",
   "execution_count": 20,
   "metadata": {},
   "outputs": [
    {
     "data": {
      "text/plain": [
       "<matplotlib.image.AxesImage at 0x7f9ca973a880>"
      ]
     },
     "execution_count": 20,
     "metadata": {},
     "output_type": "execute_result"
    },
    {
     "data": {
      "image/png": "[encoded data removed]",
      "text/plain": [
       "<Figure size 640x480 with 1 Axes>"
      ]
     },
     "metadata": {},
     "output_type": "display_data"
    },
    {
     "data": {
      "image/png": "[encoded data removed]",
      "text/plain": [
       "<Figure size 640x480 with 1 Axes>"
      ]
     },
     "metadata": {},
     "output_type": "display_data"
    },
    {
     "data": {
      "image/png": "[encoded data removed]",
      "text/plain": [
       "<Figure size 640x480 with 1 Axes>"
      ]
     },
     "metadata": {},
     "output_type": "display_data"
    },
    {
     "data": {
      "image/png": "[encoded data removed]",
      "text/plain": [
       "<Figure size 640x480 with 2 Axes>"
      ]
     },
     "metadata": {},
     "output_type": "display_data"
    },
    {
     "data": {
      "image/png": "[encoded data removed]",
      "text/plain": [
       "<Figure size 640x480 with 1 Axes>"
      ]
     },
     "metadata": {},
     "output_type": "display_data"
    }
   ],
   "source": [
    "import matplotlib.pyplot as plt\n",
    "\n",
    "plt.figure()\n",
    "plt.imshow(images_ift.real)\n",
    "\n",
    "plt.figure()\n",
    "plt.imshow(zz_ift.real)\n",
    "\n",
    "plt.figure()\n",
    "plt.imshow(zz2_ift.real)\n",
    "\n",
    "plt.figure()\n",
    "\n",
    "plt.imshow(np.abs(zz_ift - zz2_ift))\n",
    "plt.colorbar()\n",
    "plt.figure()\n",
    "plt.imshow(zz2_ift.real)"
   ]
  },
  {
   "cell_type": "code",
   "execution_count": 25,
   "metadata": {},
   "outputs": [
    {
     "data": {
      "text/plain": [
       "<matplotlib.image.AxesImage at 0x7f845c15d5b0>"
      ]
     },
     "execution_count": 25,
     "metadata": {},
     "output_type": "execute_result"
    },
    {
     "data": {
      "image/png": "[encoded data removed]",
      "text/plain": [
       "<Figure size 640x480 with 1 Axes>"
      ]
     },
     "metadata": {},
     "output_type": "display_data"
    },
    {
     "data": {
      "image/png": "[encoded data removed]",
      "text/plain": [
       "<Figure size 640x480 with 1 Axes>"
      ]
     },
     "metadata": {},
     "output_type": "display_data"
    },
    {
     "data": {
      "image/png": "[encoded data removed]",
      "text/plain": [
       "<Figure size 640x480 with 1 Axes>"
      ]
     },
     "metadata": {},
     "output_type": "display_data"
    }
   ],
   "source": [
    "# from recovar import core\n",
    "# core.translate_images(images[None], translations[1:2], image_shape)\n",
    "import matplotlib.pyplot as plt\n",
    "plt.imshow(np.abs(images))\n",
    "plt.figure()\n",
    "plt.imshow(np.abs(zz2))\n",
    "plt.figure()\n",
    "plt.imshow(np.abs(zz))"
   ]
  },
  {
   "cell_type": "code",
   "execution_count": 10,
   "metadata": {},
   "outputs": [
    {
     "data": {
      "text/plain": [
       "<matplotlib.image.AxesImage at 0x7f8457b9ab50>"
      ]
     },
     "execution_count": 10,
     "metadata": {},
     "output_type": "execute_result"
    },
    {
     "data": {
      "image/png": "[encoded data removed]",
      "text/plain": [
       "<Figure size 640x480 with 1 Axes>"
      ]
     },
     "metadata": {},
     "output_type": "display_data"
    }
   ],
   "source": [
    "import matplotlib.pyplot as plt\n",
    "plt.imshow(zz.real)"
   ]
  },
  {
   "cell_type": "code",
   "execution_count": 11,
   "metadata": {},
   "outputs": [
    {
     "data": {
      "text/plain": [
       "Array([[ 8.10125396e-02+7.0823409e-09j, -1.09183943e+00-9.5451632e-08j,\n",
       "         2.80126572e-01+2.4489442e-08j,  2.64227599e-01+2.3099512e-08j,\n",
       "         1.93431050e-01+1.6910279e-08j,  3.54415387e-01+3.0983976e-08j,\n",
       "        -1.00681257e+00-8.8018346e-08j, -1.78026661e-01-1.5563586e-08j,\n",
       "        -1.06958282e+00-9.3505903e-08j,  3.27110976e-01+2.8596951e-08j,\n",
       "        -8.55683625e-01-7.4806238e-08j,  1.59279096e+00+1.3924621e-07j,\n",
       "        -2.24387020e-01-1.9616536e-08j,  2.61204332e-01+2.2835206e-08j,\n",
       "        -4.69643623e-02-4.1057553e-09j,  5.76594397e-02+5.0407487e-09j],\n",
       "       [ 3.11716676e-01-1.2911721e-01j,  2.65686274e-01-1.1005081e-01j,\n",
       "         7.75207758e-01-3.2110140e-01j, -1.87108725e-01+7.7502936e-02j,\n",
       "         5.65341651e-01-2.3417206e-01j, -8.09118211e-01+3.3514756e-01j,\n",
       "        -3.63543451e-01+1.5058455e-01j,  6.06247723e-01-2.5111592e-01j,\n",
       "        -7.18600452e-01+2.9765391e-01j,  1.60350633e+00-6.6419369e-01j,\n",
       "        -9.84079778e-01+4.0761897e-01j, -3.97317469e-01+1.6457419e-01j,\n",
       "         8.02114248e-01-3.3224642e-01j,  1.06236219e+00-4.4004464e-01j,\n",
       "         8.05397272e-01-3.3360633e-01j,  2.08491664e-02-8.6360034e-03j],\n",
       "       [-4.44179982e-01+4.4417998e-01j, -3.40891004e-01+3.4089100e-01j,\n",
       "        -1.53113022e-01+1.5311302e-01j, -6.66926205e-02+6.6692621e-02j,\n",
       "         4.73627262e-02-4.7362726e-02j, -3.89932156e-01+3.8993216e-01j,\n",
       "         7.87765503e-01-7.8776550e-01j, -5.42742312e-01+5.4274231e-01j,\n",
       "         6.80586398e-02-6.8058640e-02j,  4.24922228e-01-4.2492223e-01j,\n",
       "         1.53513715e-01-1.5351371e-01j,  7.40704238e-02-7.4070424e-02j,\n",
       "         1.60751954e-01-1.6075195e-01j,  2.90044576e-01-2.9004458e-01j,\n",
       "         6.36720896e-01-6.3672090e-01j,  5.97804785e-01-5.9780478e-01j],\n",
       "       [ 2.00634822e-01-4.8437518e-01j, -4.66825031e-02+1.1270150e-01j,\n",
       "         1.58523038e-01-3.8270840e-01j,  9.52542648e-02-2.2996408e-01j,\n",
       "         9.56045911e-02-2.3080985e-01j,  1.16797023e-01-2.8197289e-01j,\n",
       "         1.36329427e-01-3.2912827e-01j, -1.06707454e-01+2.5761452e-01j,\n",
       "         2.06930861e-01-4.9957517e-01j, -5.38376682e-02+1.2997560e-01j,\n",
       "         7.80529380e-02-1.8843640e-01j,  2.28292361e-01-5.5114639e-01j,\n",
       "         1.56497061e-01-3.7781721e-01j, -1.10762596e-01+2.6740450e-01j,\n",
       "         4.64105345e-02-1.1204491e-01j, -9.56369266e-02+2.3088792e-01j],\n",
       "       [-1.53882809e-08+3.5204279e-01j, -4.51966393e-08+1.0339786e+00j,\n",
       "         2.23032171e-08-5.1023811e-01j, -9.05406061e-09+2.0713276e-01j,\n",
       "         3.10059756e-09-7.0933409e-02j, -6.36422026e-09+1.4559639e-01j,\n",
       "        -3.96687838e-09+9.0751596e-02j,  4.56679938e-09-1.0447619e-01j,\n",
       "         4.43393677e-09-1.0143665e-01j, -3.29809402e-10+7.5451592e-03j,\n",
       "         4.82479408e-08-1.1037842e+00j,  1.54515778e-08-3.5349089e-01j,\n",
       "         1.64620086e-08-3.7660682e-01j, -4.25066347e-08+9.7243840e-01j,\n",
       "         2.82018831e-09-6.4518392e-02j,  5.95353242e-08-1.3620094e+00j],\n",
       "       [ 1.05076648e-01+2.5367740e-01j, -1.82304397e-01-4.4012162e-01j,\n",
       "        -7.00073242e-02-1.6901259e-01j,  2.59734899e-01+6.2705535e-01j,\n",
       "        -2.87398666e-01-6.9384152e-01j,  9.73068178e-02+2.3491937e-01j,\n",
       "        -1.52954072e-01-3.6926365e-01j, -4.86332089e-01-1.1741091e+00j,\n",
       "         2.24799529e-01+5.4271394e-01j,  2.45045990e-01+5.9159321e-01j,\n",
       "        -1.04816012e-01-2.5304815e-01j, -1.57390744e-03-3.7997474e-03j,\n",
       "        -1.04175292e-01-2.5150132e-01j, -9.06435102e-02-2.1883272e-01j,\n",
       "         1.51430918e-02+3.6558647e-02j, -1.02128305e-01-2.4655946e-01j],\n",
       "       [-3.95367265e-01-3.9536715e-01j,  1.90923288e-02+1.9092321e-02j,\n",
       "         1.87748969e-01+1.8774891e-01j,  5.54030895e-01+5.5403072e-01j,\n",
       "        -9.71349925e-02-9.7134963e-02j, -6.64111376e-01-6.6411114e-01j,\n",
       "         2.77700275e-01+2.7770019e-01j,  6.65360868e-01+6.6536063e-01j,\n",
       "         1.10045362e+00+1.1004531e+00j, -6.25369279e-03-6.2536900e-03j,\n",
       "        -4.13728505e-01-4.1372839e-01j,  3.61758024e-01+3.6175790e-01j,\n",
       "         1.07936256e-01+1.0793621e-01j,  7.53992349e-02+7.5399205e-02j,\n",
       "        -2.70324409e-01-2.7032432e-01j,  6.70587957e-01+6.7058766e-01j],\n",
       "       [-5.50182797e-02-2.2789305e-02j,  1.16318926e-01+4.8180852e-02j,\n",
       "        -2.86637515e-01-1.1872908e-01j,  2.96640545e-01+1.2287247e-01j,\n",
       "        -7.85462037e-02-3.2534886e-02j,  1.16306782e+00+4.8175824e-01j,\n",
       "        -6.04454696e-01-2.5037321e-01j, -5.95725179e-01-2.4675733e-01j,\n",
       "        -1.37071937e-01-5.6777027e-02j, -6.78753614e-01-2.8114882e-01j,\n",
       "         9.29523110e-02+3.8502086e-02j, -7.72055835e-02-3.1979587e-02j,\n",
       "         2.29839742e-01+9.5202692e-02j, -2.60022789e-01-1.0770491e-01j,\n",
       "         4.01942134e-01+1.6648981e-01j,  3.07086468e-01+1.2719932e-01j],\n",
       "       [-7.76515841e-01+1.4540532e-07j,  1.17538285e+00-2.2009456e-07j,\n",
       "        -6.99043691e-01+1.3089840e-07j, -3.33799124e-01+6.2505059e-08j,\n",
       "         1.51208901e+00-2.8314398e-07j,  1.97176173e-01-3.6921932e-08j,\n",
       "        -1.86623350e-01+3.4945877e-08j,  6.44864023e-01-1.2075306e-07j,\n",
       "        -7.77748585e-01+1.4563616e-07j, -1.41654730e-01+2.6525347e-08j,\n",
       "        -8.92285943e-01+1.6708368e-07j, -8.79444122e-01+1.6467901e-07j,\n",
       "        -6.54742420e-01+1.2260283e-07j, -5.89325607e-01+1.1035329e-07j,\n",
       "        -7.08774805e-01+1.3272057e-07j, -3.65726560e-01+6.8483587e-08j],\n",
       "       [-3.36574525e-01+1.3941380e-01j, -3.80707026e-01+1.5769410e-01j,\n",
       "        -6.02371618e-02+2.4951061e-02j, -1.35414064e-01+5.6090370e-02j,\n",
       "        -1.68302432e-01+6.9713190e-02j,  6.48598671e-01-2.6865855e-01j,\n",
       "         1.42752898e+00-5.9130216e-01j,  4.76670235e-01-1.9744340e-01j,\n",
       "        -1.64566904e-01+6.8165876e-02j, -3.46975744e-01+1.4372215e-01j,\n",
       "        -8.72978747e-01+3.6159980e-01j, -7.77848542e-01+3.2219559e-01j,\n",
       "         3.86271864e-01-1.5999913e-01j, -2.12137923e-01+8.7870456e-02j,\n",
       "         1.04708922e+00-4.3371877e-01j, -7.27998197e-01+3.0154690e-01j],\n",
       "       [-1.26473024e-01+1.2647308e-01j, -3.42343479e-01+3.4234363e-01j,\n",
       "        -7.46352494e-01+7.4635285e-01j, -9.32335496e-01+9.3233591e-01j,\n",
       "         5.74212968e-01-5.7421321e-01j,  4.63993460e-01-4.6399367e-01j,\n",
       "         3.29376459e-01-3.2937661e-01j, -1.58861905e-01+1.5886198e-01j,\n",
       "        -6.67420551e-02+6.6742085e-02j,  3.65184173e-02-3.6518436e-02j,\n",
       "         2.94828594e-01-2.9482871e-01j, -2.79519856e-01+2.7951998e-01j,\n",
       "        -4.69358861e-01+4.6935907e-01j, -1.47839999e+00+1.4784006e+00j,\n",
       "        -7.36213923e-02+7.3621422e-02j, -7.99624920e-02+7.9962529e-02j],\n",
       "       [ 1.95109561e-01-4.7103664e-01j, -2.03411818e-01+4.9108008e-01j,\n",
       "        -2.85404716e-02+6.8902865e-02j, -3.03956538e-01+7.3381674e-01j,\n",
       "         1.89548180e-01-4.5761028e-01j, -1.71916053e-01+4.1504249e-01j,\n",
       "        -1.20084159e-01+2.8990909e-01j,  1.61033869e-01-3.8877052e-01j,\n",
       "         4.37301487e-01-1.0557402e+00j,  2.34978527e-01-5.6728894e-01j,\n",
       "         2.70458102e-01-6.5294433e-01j,  6.01003990e-02-1.4509533e-01j,\n",
       "        -1.11696675e-01+2.6965994e-01j,  2.49272913e-01-6.0179865e-01j,\n",
       "        -1.84741840e-01+4.4600669e-01j,  5.48886836e-01-1.3251314e+00j],\n",
       "       [ 3.07967234e-08+7.6734886e-02j, -2.31157713e-07-5.7596588e-01j,\n",
       "        -1.65499657e-07-4.1236845e-01j,  5.06004028e-07+1.2607888e+00j,\n",
       "         1.93288145e-07+4.8160785e-01j,  1.99587959e-07+4.9730486e-01j,\n",
       "         4.01966673e-07+1.0015633e+00j,  2.99722473e-07+7.4680579e-01j,\n",
       "         1.90438953e-07+4.7450864e-01j, -1.21614775e-07-3.0302235e-01j,\n",
       "        -1.48444556e-07-3.6987299e-01j, -1.37605937e-07-3.4286687e-01j,\n",
       "         1.10810760e-07+2.7610245e-01j,  2.45505419e-07+6.1171550e-01j,\n",
       "         2.86830925e-07+7.1468443e-01j, -2.24757997e-07-5.6001997e-01j],\n",
       "       [ 1.96535185e-01+4.7447732e-01j, -2.74412841e-01-6.6249043e-01j,\n",
       "         4.09498632e-01+9.8861599e-01j,  2.02648267e-02+4.8923556e-02j,\n",
       "        -2.53380034e-02-6.1171278e-02j, -2.31407002e-01-5.5866522e-01j,\n",
       "        -1.00737959e-01-2.4320264e-01j,  4.74257544e-02+1.1449577e-01j,\n",
       "        -1.60188228e-02-3.8672816e-02j,  1.64169729e-01+3.9634031e-01j,\n",
       "        -3.33951026e-01-8.0622804e-01j, -3.24902236e-01-7.8438240e-01j,\n",
       "        -2.37677768e-02-5.7380423e-02j, -2.63404548e-01-6.3591397e-01j,\n",
       "         6.75151050e-02+1.6299568e-01j,  1.10752478e-01+2.6737979e-01j],\n",
       "       [-4.46903795e-01-4.4690332e-01j,  9.94064882e-02+9.9406384e-02j,\n",
       "         1.91325381e-01+1.9132520e-01j,  2.50487298e-01+2.5048706e-01j,\n",
       "        -8.09796870e-01-8.0979604e-01j,  2.23661624e-02+2.2366140e-02j,\n",
       "        -3.92960198e-02-3.9295983e-02j,  5.96184492e-01+5.9618384e-01j,\n",
       "         5.44253767e-01+5.4425317e-01j,  7.28253365e-01+7.2825265e-01j,\n",
       "         7.37612844e-01+7.3761207e-01j, -1.65469050e-01-1.6546889e-01j,\n",
       "         2.11010069e-01+2.1100983e-01j, -1.39880896e+00-1.3988075e+00j,\n",
       "        -5.46946824e-01-5.4694629e-01j,  6.25085294e-01+6.2508464e-01j],\n",
       "       [-2.23770052e-01-9.2688546e-02j,  1.73292562e-01+7.1780093e-02j,\n",
       "        -3.46715987e-01-1.4361440e-01j, -7.81802833e-02-3.2383319e-02j,\n",
       "        -9.70783830e-01-4.0211162e-01j, -7.22683191e-01-2.9934502e-01j,\n",
       "         4.82776910e-02+1.9997265e-02j,  5.00420332e-01+2.0728077e-01j,\n",
       "        -1.66097701e-01-6.8799891e-02j,  3.41368139e-01+1.4139923e-01j,\n",
       "         2.02508360e-01+8.3881669e-02j, -6.76044643e-01-2.8002673e-01j,\n",
       "         1.92092329e-01+7.9567201e-02j,  1.04066288e+00+4.3105647e-01j,\n",
       "         2.36512437e-01+9.7966611e-02j,  5.58490396e-01+2.3133416e-01j]],      dtype=complex64)"
      ]
     },
     "execution_count": 11,
     "metadata": {},
     "output_type": "execute_result"
    }
   ],
   "source": [
    "zz"
   ]
  },
  {
   "cell_type": "code",
   "execution_count": 12,
   "metadata": {},
   "outputs": [
    {
     "data": {
      "text/plain": [
       "Array([[ 8.10125396e-02+0.j        , -1.00872803e+00-0.41782883j,\n",
       "         1.98079392e-01+0.19807939j,  1.01115525e-01+0.24411447j,\n",
       "         0.00000000e+00+0.19343105j, -1.35628894e-01+0.32743713j,\n",
       "         7.11924016e-01-0.711924j  ,  1.64475188e-01-0.06812785j,\n",
       "         1.06958282e+00+0.j        , -3.02211136e-01-0.12517995j,\n",
       "         6.05059683e-01+0.6050597j , -6.09534681e-01-1.4715469j ,\n",
       "         0.00000000e+00+0.22438702j,  9.99585614e-02-0.24132133j,\n",
       "        -3.32088210e-02+0.03320882j,  5.32703772e-02-0.02206531j],\n",
       "       [ 3.37399691e-01+0.j        ,  2.65686244e-01+0.11005084j,\n",
       "         5.93318224e-01+0.5933182j , -7.75029659e-02-0.18710871j,\n",
       "         0.00000000e+00+0.6119213j ,  3.35147679e-01-0.8091181j ,\n",
       "         2.78244078e-01-0.27824408j, -6.06247663e-01+0.251116j  ,\n",
       "         7.77807415e-01+0.j        , -1.60350597e+00-0.6641939j ,\n",
       "         7.53181934e-01+0.75318193j,  1.64574251e-01+0.3973174j ,\n",
       "        -0.00000000e+00-0.8682021j ,  4.40044791e-01-1.0623622j ,\n",
       "         6.16424322e-01-0.6164243j ,  2.08491627e-02-0.00863601j],\n",
       "       [-6.28165364e-01-0.j        , -4.45395529e-01-0.18448886j,\n",
       "        -1.53113022e-01-0.15311302j, -3.60937826e-02-0.08713811j,\n",
       "         0.00000000e+00+0.06698101j,  2.11029738e-01-0.5094709j ,\n",
       "        -7.87765503e-01+0.7877655j ,  7.09126949e-01-0.29373j   ,\n",
       "        -9.62494612e-02+0.j        , -5.55187583e-01-0.22996624j,\n",
       "        -1.53513715e-01-0.15351371j, -4.00866233e-02-0.09677768j,\n",
       "        -0.00000000e+00-0.2273376j ,  1.56970993e-01-0.3789615j ,\n",
       "         6.36720896e-01-0.6367209j ,  7.81069577e-01-0.3235296j ],\n",
       "       [ 5.24283946e-01+0.j        , -1.12701498e-01-0.04668249j,\n",
       "         2.92912304e-01+0.2929123j ,  9.52542424e-02+0.22996408j,\n",
       "         0.00000000e+00+0.24982679j, -1.16796993e-01+0.2819729j ,\n",
       "        -2.51903862e-01+0.25190386j,  2.57614523e-01-0.10670742j,\n",
       "        -5.40736318e-01+0.j        ,  1.29975602e-01+0.05383766j,\n",
       "        -1.44222990e-01-0.14422299j, -2.28292286e-01-0.5511463j ,\n",
       "        -0.00000000e+00-0.40894642j, -1.10762566e-01+0.2674045j ,\n",
       "         8.57554674e-02-0.08575547j, -2.30887905e-01+0.0956369j ],\n",
       "       [-3.52042794e-01-0.j        , -9.55271602e-01-0.39568645j,\n",
       "         3.60792816e-01+0.36079282j, -7.92662725e-02-0.19136572j,\n",
       "         0.00000000e+00+0.07093341j,  5.57173193e-02-0.13451351j,\n",
       "         6.41710684e-02-0.06417107j, -9.65234116e-02+0.03998131j,\n",
       "        -1.01436652e-01+0.j        ,  6.97081769e-03+0.00288741j,\n",
       "        -7.80493259e-01-0.78049326j, -1.35275096e-01-0.326583j  ,\n",
       "        -0.00000000e+00-0.37660682j, -3.72136027e-01+0.89841586j,\n",
       "         4.56213914e-02-0.04562139j,  1.25833261e+00-0.5212184j ],\n",
       "       [-2.74578452e-01-0.j        ,  4.40121621e-01+0.18230434j,\n",
       "         1.29356638e-01+0.12935664j, -2.59734809e-01-0.62705535j,\n",
       "         0.00000000e+00+0.7510087j ,  9.73067880e-02-0.23491937j,\n",
       "        -2.82622188e-01+0.2826222j , -1.17410910e+00+0.4863319j ,\n",
       "         5.87429345e-01+0.j        ,  5.91593206e-01+0.24504592j,\n",
       "        -1.93674684e-01-0.19367468j, -1.57390698e-03-0.00379975j,\n",
       "        -0.00000000e+00-0.2722231j ,  9.06434730e-02-0.21883272j,\n",
       "        -2.79807746e-02+0.02798077j,  2.46559471e-01-0.10212827j],\n",
       "       [ 5.59133708e-01+0.j        , -2.49453243e-02-0.01033269j,\n",
       "        -1.87748939e-01-0.18774894j, -2.99839318e-01-0.7238761j ,\n",
       "         0.00000000e+00+0.1373696j , -3.59414399e-01+0.86770314j,\n",
       "         2.77700245e-01-0.27770025j,  8.69335711e-01-0.3600906j ,\n",
       "         1.55627608e+00+0.j        , -8.17084126e-03-0.00338447j,\n",
       "        -4.13728446e-01-0.41372845j,  1.95781991e-01+0.47265956j,\n",
       "         0.00000000e+00+0.15264489j, -4.08057608e-02+0.09851383j,\n",
       "         2.70324349e-01-0.27032435j, -8.76165152e-01+0.36291948j],\n",
       "       [ 5.95513508e-02+0.j        , -1.16318911e-01-0.04818087j,\n",
       "         2.19382808e-01+0.21938281j, -1.22872517e-01-0.29664052j,\n",
       "         0.00000000e+00+0.08501779j,  4.81758416e-01-1.1630677j ,\n",
       "        -4.62629557e-01+0.46262956j, -5.95725119e-01+0.2467574j ,\n",
       "        -1.48365572e-01+0.j        , -6.78753495e-01-0.2811489j ,\n",
       "         7.11426064e-02+0.07114261j, -3.19795944e-02-0.07720558j,\n",
       "         0.00000000e+00+0.24877672j,  1.07704945e-01-0.26002276j,\n",
       "        -3.07633162e-01+0.30763316j, -3.07086438e-01+0.12719937j],\n",
       "       [ 7.76515841e-01+0.j        , -1.08591211e+00-0.4497995j ,\n",
       "         4.94298518e-01+0.49429852j,  1.27739385e-01+0.30839017j,\n",
       "         0.00000000e+00-1.512089j  ,  7.54560530e-02-0.18216702j,\n",
       "        -1.31962627e-01+0.13196263j,  5.95776618e-01-0.24677876j,\n",
       "        -7.77748585e-01+0.j        , -1.30871907e-01-0.05420892j,\n",
       "        -6.30941451e-01-0.63094145j, -3.36548656e-01-0.81250036j,\n",
       "        -0.00000000e+00-0.6547424j ,  2.25525126e-01-0.54446584j,\n",
       "         5.01179457e-01-0.50117946j,  3.37887287e-01-0.13995749j],\n",
       "       [ 3.64305675e-01+0.j        ,  3.80707026e-01+0.15769401j,\n",
       "         4.61035334e-02+0.04610353j,  5.60903437e-02+0.13541408j,\n",
       "         0.00000000e+00+0.18216926j,  2.68658400e-01-0.64859873j,\n",
       "         1.09258342e+00-1.0925834j ,  4.76670295e-01-0.19744329j,\n",
       "        -1.78125948e-01+0.j        , -3.46975774e-01-0.14372206j,\n",
       "        -6.68149054e-01-0.66814905j, -3.22195441e-01-0.7778486j ,\n",
       "         0.00000000e+00+0.41809767j,  8.78704116e-02-0.21213794j,\n",
       "        -8.01407456e-01+0.80140746j,  7.27998257e-01-0.30154672j],\n",
       "       [ 1.78859904e-01+0.j        ,  4.47293371e-01+0.18527497j,\n",
       "         7.46352613e-01+0.7463526j ,  5.04576385e-01+1.2181551j ,\n",
       "         0.00000000e+00-0.81205994j,  2.51111478e-01-0.60623676j,\n",
       "         3.29376519e-01-0.32937652j, -2.07563117e-01+0.08597545j,\n",
       "        -9.43875387e-02+0.j        ,  4.77136187e-02+0.01976363j,\n",
       "         2.94828653e-01+0.29482865j, -1.51275083e-01-0.36521035j,\n",
       "        -0.00000000e+00-0.66377383j,  8.00104439e-01-1.9316231j ,\n",
       "         7.36213997e-02-0.0736214j ,  1.04476042e-01-0.04327539j],\n",
       "       [-5.09846330e-01-0.j        ,  4.91079986e-01+0.20341198j,\n",
       "         5.27359620e-02+0.05273596j,  3.03956807e-01+0.7338166j ,\n",
       "         0.00000000e+00-0.4953137j , -1.71916202e-01+0.41504243j,\n",
       "        -2.21886769e-01+0.22188677j,  3.88770461e-01-0.161034j  ,\n",
       "         1.14272487e+00+0.j        ,  5.67288816e-01+0.23497872j,\n",
       "         4.99741852e-01+0.49974185j,  6.01004437e-02+0.14509532j,\n",
       "        -0.00000000e+00-0.29187775j, -2.49273106e-01+0.60179853j,\n",
       "         3.41358662e-01-0.34135866j, -1.32513118e+00+0.5488873j ],\n",
       "       [ 7.67348856e-02+0.j        , -5.32123029e-01-0.22041258j,\n",
       "        -2.91588515e-01-0.29158852j,  4.82482940e-01+1.1648169j ,\n",
       "         0.00000000e+00+0.48160785j, -1.90310314e-01+0.45944977j,\n",
       "        -7.08212197e-01+0.7082122j , -6.89958572e-01+0.2857902j ,\n",
       "        -4.74508643e-01+0.j        ,  2.79956162e-01+0.11596163j,\n",
       "         2.61539698e-01+0.2615397j ,  1.31209463e-01+0.31676766j,\n",
       "        -0.00000000e+00-0.27610245j,  2.34093368e-01-0.5651514j ,\n",
       "         5.05358160e-01-0.50535816j, -5.17390966e-01+0.21431036j],\n",
       "       [ 5.13570607e-01+0.j        , -6.62490487e-01-0.27441254j,\n",
       "         7.56654024e-01+0.756654j  ,  2.02648044e-02+0.04892357j,\n",
       "         0.00000000e+00-0.06621133j,  2.31406733e-01-0.5586653j ,\n",
       "         1.86139271e-01-0.18613927j, -1.14495777e-01+0.0474257j ,\n",
       "         4.18591574e-02+0.j        , -3.96340340e-01-0.16416954j,\n",
       "         6.17060363e-01+0.61706036j,  3.24901879e-01+0.7843825j ,\n",
       "         0.00000000e+00+0.06210813j, -2.63404220e-01+0.6359141j ,\n",
       "         1.24751516e-01-0.12475152j,  2.67379850e-01-0.11075235j],\n",
       "       [-6.32017076e-01-0.j        ,  1.29880771e-01+0.05379837j,\n",
       "         1.91325292e-01+0.19132529j,  1.35562673e-01+0.32727727j,\n",
       "         0.00000000e+00-1.1452252j , -1.21044740e-02+0.02922279j,\n",
       "         3.92960012e-02-0.039296j  , -7.78952181e-01+0.32265255j,\n",
       "        -7.69690692e-01+0.j        , -9.51508403e-01-0.39412767j,\n",
       "        -7.37612486e-01-0.7376125j ,  8.95511582e-02+0.21619561j,\n",
       "        -0.00000000e+00-0.29841313j, -7.57029533e-01+1.827631j  ,\n",
       "        -5.46946585e-01+0.5469466j ,  8.16712797e-01-0.33829352j],\n",
       "       [-2.42206931e-01-0.j        ,  1.73292547e-01+0.07178012j,\n",
       "        -2.65364915e-01-0.26536492j, -3.23833302e-02-0.07818028j,\n",
       "         0.00000000e+00-1.0507687j ,  2.99345106e-01-0.722683j  ,\n",
       "        -3.69501412e-02+0.03695014j, -5.00420272e-01+0.20728084j,\n",
       "         1.79782838e-01+0.j        , -3.41368109e-01-0.1413993j ,\n",
       "        -1.54993176e-01-0.15499318j,  2.80026823e-01+0.6760445j ,\n",
       "        -0.00000000e+00-0.20791921j,  4.31056619e-01-1.0406628j ,\n",
       "         1.81018770e-01-0.18101877j,  5.58490276e-01-0.23133425j]],      dtype=complex64)"
      ]
     },
     "execution_count": 12,
     "metadata": {},
     "output_type": "execute_result"
    }
   ],
   "source": [
    "zz2"
   ]
  },
  {
   "cell_type": "code",
   "execution_count": 13,
   "metadata": {},
   "outputs": [
    {
     "data": {
      "text/plain": [
       "Array([[ 0.00000000e+00+7.08234094e-09j, -8.31114054e-02+4.17828739e-01j,\n",
       "         8.20471793e-02-1.98079363e-01j,  1.63112074e-01-2.44114444e-01j,\n",
       "         1.93431050e-01-1.93431035e-01j,  4.90044296e-01-3.27437103e-01j,\n",
       "        -1.71873665e+00+7.11923957e-01j, -3.42501849e-01+6.81278333e-02j,\n",
       "        -2.13916564e+00-9.35059035e-08j,  6.29322112e-01+1.25179976e-01j,\n",
       "        -1.46074331e+00-6.05059743e-01j,  2.20232558e+00+1.47154701e+00j,\n",
       "        -2.24387020e-01-2.24387035e-01j,  1.61245763e-01+2.41321355e-01j,\n",
       "        -1.37555413e-02-3.32088247e-02j,  4.38906252e-03+2.20653173e-02j],\n",
       "       [-2.56830156e-02-1.29117206e-01j,  2.98023224e-08-2.20101655e-01j,\n",
       "         1.81889534e-01-9.14419651e-01j, -1.09605759e-01+2.64611661e-01j,\n",
       "         5.65341651e-01-8.46093357e-01j, -1.14426589e+00+1.14426565e+00j,\n",
       "        -6.41787529e-01+4.28828627e-01j,  1.21249533e+00-5.02231956e-01j,\n",
       "        -1.49640787e+00+2.97653913e-01j,  3.20701218e+00+2.38418579e-07j,\n",
       "        -1.73726177e+00-3.45562965e-01j, -5.61891735e-01-2.32743219e-01j,\n",
       "         8.02114248e-01+5.35955667e-01j,  6.22317433e-01+6.22317553e-01j,\n",
       "         1.88972950e-01+2.82817990e-01j,  3.72529030e-09+2.79396772e-09j],\n",
       "       [ 1.83985382e-01+4.44179982e-01j,  1.04504526e-01+5.25379896e-01j,\n",
       "         0.00000000e+00+3.06226045e-01j, -3.05988379e-02+1.53830737e-01j,\n",
       "         4.73627262e-02-1.14343733e-01j, -6.00961924e-01+8.99403036e-01j,\n",
       "         1.57553101e+00-1.57553101e+00j, -1.25186920e+00+8.36472273e-01j,\n",
       "         1.64308101e-01-6.80586398e-02j,  9.80109811e-01-1.94955990e-01j,\n",
       "         3.07027429e-01+0.00000000e+00j,  1.14157051e-01+2.27072537e-02j,\n",
       "         1.60751954e-01+6.65856451e-02j,  1.33073583e-01+8.89169276e-02j,\n",
       "         0.00000000e+00+0.00000000e+00j, -1.83264792e-01-2.74275184e-01j],\n",
       "       [-3.23649108e-01-4.84375179e-01j,  6.60189986e-02+1.59383982e-01j,\n",
       "        -1.34389266e-01-6.75620675e-01j,  2.23517418e-08-4.59928155e-01j,\n",
       "         9.56045911e-02-4.80636656e-01j,  2.33594015e-01-5.63945770e-01j,\n",
       "         3.88233304e-01-5.81032157e-01j, -3.64321977e-01+3.64321947e-01j,\n",
       "         7.47667193e-01-4.99575168e-01j, -1.83813274e-01+7.61379451e-02j,\n",
       "         2.22275928e-01-4.42134142e-02j,  4.56584632e-01-5.96046448e-08j,\n",
       "         1.56497061e-01+3.11292112e-02j, -2.98023224e-08+0.00000000e+00j,\n",
       "        -3.93449329e-02-2.62894407e-02j,  1.35250986e-01+1.35251015e-01j],\n",
       "       [ 3.52042764e-01+3.52042794e-01j,  9.55271542e-01+1.42966509e+00j,\n",
       "        -3.60792786e-01-8.71030927e-01j,  7.92662650e-02+3.98498476e-01j,\n",
       "         3.10059756e-09-1.41866818e-01j, -5.57173267e-02+2.80109882e-01j,\n",
       "        -6.41710758e-02+1.54922664e-01j,  9.65234190e-02-1.44457489e-01j,\n",
       "         1.01436660e-01-1.01436652e-01j, -6.97081815e-03+4.65775188e-03j,\n",
       "         7.80493319e-01-3.23290944e-01j,  1.35275111e-01-2.69078910e-02j,\n",
       "         1.64620086e-08+0.00000000e+00j,  3.72135997e-01+7.40225315e-02j,\n",
       "        -4.56213877e-02-1.88970007e-02j, -1.25833261e+00-8.40790987e-01j],\n",
       "       [ 3.79655093e-01+2.53677398e-01j, -6.22426033e-01-6.22425973e-01j,\n",
       "        -1.99363962e-01-2.98369229e-01j,  5.19469738e-01+1.25411069e+00j,\n",
       "        -2.87398666e-01-1.44485021e+00j,  2.98023224e-08+4.69838738e-01j,\n",
       "         1.29668117e-01-6.51885867e-01j,  6.87777042e-01-1.66044104e+00j,\n",
       "        -3.62629831e-01+5.42713940e-01j, -3.46547216e-01+3.46547306e-01j,\n",
       "         8.88586715e-02-5.93734682e-02j, -4.65661287e-10+2.32830644e-10j,\n",
       "        -1.04175292e-01+2.07217634e-02j, -1.81286991e-01+0.00000000e+00j,\n",
       "         4.31238674e-02+8.57787207e-03j, -3.48687768e-01-1.44431174e-01j],\n",
       "       [-9.54500973e-01-3.95367146e-01j,  4.40376550e-02+2.94250138e-02j,\n",
       "         3.75497907e-01+3.75497848e-01j,  8.53870213e-01+1.27790689e+00j,\n",
       "        -9.71349925e-02-2.34504566e-01j, -3.04696977e-01-1.53181434e+00j,\n",
       "         2.98023224e-08+5.55400431e-01j, -2.03974843e-01+1.02545118e+00j,\n",
       "        -4.55822468e-01+1.10045314e+00j,  1.91714847e-03-2.86921673e-03j,\n",
       "        -5.96046448e-08+5.96046448e-08j,  1.65976033e-01-1.10901654e-01j,\n",
       "         1.07936256e-01-4.47086766e-02j,  1.16204992e-01-2.31146216e-02j,\n",
       "        -5.40648758e-01+2.98023224e-08j,  1.54675317e+00+3.07668179e-01j],\n",
       "       [-1.14569634e-01-2.27893051e-02j,  2.32637838e-01+9.63617191e-02j,\n",
       "        -5.06020308e-01-3.38111877e-01j,  4.19513047e-01+4.19512987e-01j,\n",
       "        -7.85462037e-02-1.17552668e-01j,  6.81309402e-01+1.64482594e+00j,\n",
       "        -1.41825140e-01-7.13002801e-01j, -5.96046448e-08-4.93514717e-01j,\n",
       "         1.12936348e-02-5.67770265e-02j, -1.19209290e-07+8.94069672e-08j,\n",
       "         2.18097046e-02-3.26405205e-02j, -4.52259891e-02+4.52259891e-02j,\n",
       "         2.29839742e-01-1.53574020e-01j, -3.67727727e-01+1.52317852e-01j,\n",
       "         7.09575295e-01-1.41143352e-01j,  6.14172935e-01-4.47034836e-08j],\n",
       "       [-1.55303168e+00+1.45405323e-07j,  2.26129484e+00+4.49799299e-01j,\n",
       "        -1.19334221e+00-4.94298398e-01j, -4.61538494e-01-3.08390111e-01j,\n",
       "         1.51208901e+00+1.51208878e+00j,  1.21720120e-01+1.82166994e-01j,\n",
       "        -5.46607226e-02-1.31962597e-01j,  4.90874052e-02+2.46778637e-01j,\n",
       "         0.00000000e+00+1.45636164e-07j, -1.07828230e-02+5.42089418e-02j,\n",
       "        -2.61344492e-01+6.30941629e-01j, -5.42895436e-01+8.12500536e-01j,\n",
       "        -6.54742420e-01+6.54742539e-01j, -8.14850748e-01+5.44465959e-01j,\n",
       "        -1.20995426e+00+5.01179576e-01j, -7.03613877e-01+1.39957562e-01j],\n",
       "       [-7.00880170e-01+1.39413804e-01j, -7.61414051e-01+8.94069672e-08j,\n",
       "        -1.06340691e-01-2.11524721e-02j, -1.91504404e-01-7.93237090e-02j,\n",
       "        -1.68302432e-01-1.12456068e-01j,  3.79940271e-01+3.79940182e-01j,\n",
       "         3.34945560e-01+5.01281261e-01j, -5.96046448e-08-1.04308128e-07j,\n",
       "         1.35590434e-02+6.81658760e-02j,  2.98023224e-08+2.87444204e-01j,\n",
       "        -2.04829693e-01+1.02974892e+00j, -4.55653101e-01+1.10004425e+00j,\n",
       "         3.86271864e-01-5.78096807e-01j, -3.00008327e-01+3.00008386e-01j,\n",
       "         1.84849668e+00-1.23512626e+00j, -1.45599651e+00+6.03093624e-01j],\n",
       "       [-3.05332929e-01+1.26473084e-01j, -7.89636850e-01+1.57068655e-01j,\n",
       "        -1.49270511e+00+2.38418579e-07j, -1.43691182e+00-2.85819232e-01j,\n",
       "         5.74212968e-01+2.37846732e-01j,  2.12881982e-01+1.42243087e-01j,\n",
       "        -5.96046448e-08-8.94069672e-08j,  4.87012118e-02+7.28865266e-02j,\n",
       "         2.76454836e-02+6.67420849e-02j, -1.11952014e-02-5.62820658e-02j,\n",
       "        -5.96046448e-08-5.89657366e-01j, -1.28244773e-01+6.44730330e-01j,\n",
       "        -4.69358861e-01+1.13313293e+00j, -2.27850437e+00+3.41002369e+00j,\n",
       "        -1.47242785e-01+1.47242814e-01j, -1.84438527e-01+1.23237923e-01j],\n",
       "       [ 7.04955876e-01-4.71036643e-01j, -6.94491804e-01+2.87668109e-01j,\n",
       "        -8.12764317e-02+1.61669031e-02j, -6.07913375e-01+1.19209290e-07j,\n",
       "         1.89548180e-01+3.77034247e-02j,  1.49011612e-07+5.96046448e-08j,\n",
       "         1.01802610e-01+6.80223256e-02j, -2.27736592e-01-2.27736518e-01j,\n",
       "        -7.05423355e-01-1.05574024e+00j, -3.32310289e-01-8.02267671e-01j,\n",
       "        -2.29283750e-01-1.15268612e+00j, -4.47034836e-08-2.90190637e-01j,\n",
       "        -1.11696675e-01+5.61537683e-01j,  4.98546004e-01-1.20359719e+00j,\n",
       "        -5.26100516e-01+7.87365317e-01j,  1.87401795e+00-1.87401867e+00j],\n",
       "       [-7.67348558e-02+7.67348856e-02j,  5.32122791e-01-3.55553299e-01j,\n",
       "         2.91588336e-01-1.20779932e-01j, -4.82482433e-01+9.59719419e-02j,\n",
       "         1.93288145e-07+0.00000000e+00j,  1.90310508e-01+3.78550887e-02j,\n",
       "         7.08212614e-01+2.93351114e-01j,  6.89958870e-01+4.61015582e-01j,\n",
       "         4.74508822e-01+4.74508643e-01j, -2.79956281e-01-4.18983996e-01j,\n",
       "        -2.61539847e-01-6.31412685e-01j, -1.31209597e-01-6.59634531e-01j,\n",
       "         1.10810760e-07+5.52204907e-01j, -2.34093130e-01+1.17686689e+00j,\n",
       "        -5.05357862e-01+1.22004259e+00j,  5.17390728e-01-7.74330318e-01j],\n",
       "       [-3.17035437e-01+4.74477321e-01j,  3.88077646e-01-3.88077885e-01j,\n",
       "        -3.47155392e-01+2.31961966e-01j,  2.23517418e-08-1.11758709e-08j,\n",
       "        -2.53380034e-02+5.04004955e-03j, -4.62813735e-01+5.96046448e-08j,\n",
       "        -2.86877215e-01-5.70633709e-02j,  1.61921531e-01+6.70700669e-02j,\n",
       "        -5.78779802e-02-3.86728160e-02j,  5.60510039e-01+5.60509861e-01j,\n",
       "        -9.51011419e-01-1.42328835e+00j, -6.49804115e-01-1.56876493e+00j,\n",
       "        -2.37677768e-02-1.19488552e-01j, -3.27825546e-07-1.27182806e+00j,\n",
       "        -5.72364107e-02+2.87747204e-01j, -1.56627372e-01+3.78132135e-01j],\n",
       "       [ 1.85113281e-01-4.46903318e-01j, -3.04742828e-02+4.56080101e-02j,\n",
       "         8.94069672e-08-8.94069672e-08j,  1.14924625e-01-7.67902136e-02j,\n",
       "        -8.09796870e-01+3.35429132e-01j,  3.44706364e-02-6.85664639e-03j,\n",
       "        -7.85920173e-02+1.86264515e-08j,  1.37513661e+00+2.73531288e-01j,\n",
       "         1.31394446e+00+5.44253170e-01j,  1.67976177e+00+1.12238026e+00j,\n",
       "         1.47522533e+00+1.47522449e+00j, -2.55020201e-01-3.81664515e-01j,\n",
       "         2.11010069e-01+5.09422958e-01j, -6.41779423e-01-3.22643852e+00j,\n",
       "        -2.38418579e-07-1.09389281e+00j, -1.91627502e-01+9.63378191e-01j],\n",
       "       [ 1.84368789e-02-9.26885456e-02j,  1.49011612e-08-2.98023224e-08j,\n",
       "        -8.13510716e-02+1.21750519e-01j, -4.57969531e-02+4.57969569e-02j,\n",
       "        -9.70783830e-01+6.48657084e-01j, -1.02202833e+00+4.23337996e-01j,\n",
       "         8.52278322e-02-1.69528760e-02j,  1.00084066e+00-7.45058060e-08j,\n",
       "        -3.45880538e-01-6.87998906e-02j,  6.82736278e-01+2.82798529e-01j,\n",
       "         3.57501537e-01+2.38874853e-01j, -9.56071496e-01-9.56071258e-01j,\n",
       "         1.92092329e-01+2.87486404e-01j,  6.09606266e-01+1.47171926e+00j,\n",
       "         5.54936677e-02+2.78985381e-01j,  1.19209290e-07+4.62668419e-01j]],      dtype=complex64)"
      ]
     },
     "execution_count": 13,
     "metadata": {},
     "output_type": "execute_result"
    }
   ],
   "source": [
    "zz - zz2"
   ]
  },
  {
   "cell_type": "code",
   "execution_count": 18,
   "metadata": {},
   "outputs": [
    {
     "data": {
      "text/plain": [
       "Array([[-7.32787788e-01+0.j        , -8.93064141e-02+0.03699193j,\n",
       "         2.75583148e-01-0.27558315j, -2.78482437e-01+0.672316j  ,\n",
       "         0.00000000e+00-0.28688082j, -1.46287858e-01-0.35317016j,\n",
       "        -1.47168541e+00-1.4716853j , -8.92311186e-02-0.03696074j,\n",
       "        -4.73050654e-01+0.j        ,  6.59858584e-01-0.27332234j,\n",
       "        -2.57677853e-01+0.25767785j, -6.28040731e-02+0.15162243j,\n",
       "         0.00000000e+00+0.05395995j, -5.54953575e-01-1.3397762j ,\n",
       "         3.38853419e-01+0.33885342j, -7.87658691e-01-0.3262589j ],\n",
       "       [ 2.55682260e-01+0.j        ,  2.57902890e-01-0.10682687j,\n",
       "        -1.70717210e-01+0.17071721j, -2.83006206e-02+0.06832375j,\n",
       "         0.00000000e+00-0.09520563j,  3.06668356e-02+0.07403629j,\n",
       "         2.49844015e-01+0.24984398j, -4.08523083e-01-0.16921578j,\n",
       "        -7.12430835e-01+0.j        ,  4.47625041e-01-0.18541238j,\n",
       "        -7.52965450e-01+0.75296557j, -2.25276291e-01+0.5438649j ,\n",
       "         0.00000000e+00+0.01213543j,  2.81169534e-01+0.6788032j ,\n",
       "         1.50418561e-02+0.01504186j,  1.02900767e+00+0.42622888j],\n",
       "       [ 7.45517373e-01+0.j        , -9.09409821e-02+0.03766899j,\n",
       "         2.75317460e-01-0.27531746j, -2.70322189e-02+0.06526155j,\n",
       "         0.00000000e+00-0.8021127j , -6.95720911e-02-0.16796187j,\n",
       "         3.27283382e-01+0.32728335j,  3.49475265e-01+0.14475738j,\n",
       "        -4.21938300e-01+0.j        ,  6.83236048e-02-0.02830056j,\n",
       "         7.38099813e-01-0.7380997j , -1.27584487e-01+0.30801612j,\n",
       "         0.00000000e+00+1.2392919j ,  2.94969976e-01+0.7121204j ,\n",
       "        -1.31477758e-01-0.13147776j,  3.57339740e-01+0.14801496j],\n",
       "       [-6.21079840e-02+0.j        , -7.95998514e-01+0.32971337j,\n",
       "         7.69584417e-01-0.7695844j ,  2.31528878e-02-0.05589602j,\n",
       "         0.00000000e+00-0.34568125j,  2.40854859e-01+0.581475j  ,\n",
       "        -1.20262951e-02-0.01202629j, -9.21492815e-01-0.38169482j,\n",
       "        -8.31148326e-02+0.j        , -4.58817422e-01+0.19004838j,\n",
       "        -5.79690695e-01+0.5796907j ,  8.87409598e-03-0.02142397j,\n",
       "         0.00000000e+00+1.1185033j , -1.08615100e-01-0.26222005j,\n",
       "        -7.08000898e-01-0.7080009j , -9.81526256e-01-0.40656146j],\n",
       "       [ 2.68791895e-02+0.j        ,  8.26499462e-01-0.3423473j ,\n",
       "         1.74325436e-01-0.17432544j,  1.92756653e-01-0.4653556j ,\n",
       "         0.00000000e+00+0.6836421j ,  4.49876428e-01+1.0860976j ,\n",
       "        -9.89204526e-01-0.9892045j , -1.04201794e+00-0.43161795j,\n",
       "        -3.81167114e-01+0.j        , -3.69924307e-01+0.15322766j,\n",
       "        -4.36561763e-01+0.43656176j, -1.02970034e-01+0.2485916j ,\n",
       "         0.00000000e+00-0.41667104j, -4.08250213e-01-0.9856032j ,\n",
       "         2.05627203e-01+0.2056272j ,  9.85056937e-01+0.40802392j],\n",
       "       [-2.01255703e+00+0.j        , -2.91279316e-01+0.12065184j,\n",
       "        -7.33298063e-01+0.73329806j, -3.40713114e-02+0.08225542j,\n",
       "         0.00000000e+00-1.249526j  ,  5.77350616e-01+1.3938478j ,\n",
       "         1.12714744e+00+1.1271474j , -7.21418619e-01-0.29882136j,\n",
       "         2.41885662e-01+0.j        ,  1.08334649e+00-0.44873682j,\n",
       "        -5.57732701e-01+0.5577327j , -3.09665918e-01+0.74759966j,\n",
       "         0.00000000e+00-0.66691774j,  4.31490421e-01+1.0417099j ,\n",
       "         7.76650488e-01+0.7766505j , -4.18086499e-02-0.01731771j],\n",
       "       [ 9.27109122e-01+0.j        ,  2.83926666e-01-0.11760627j,\n",
       "         4.50392514e-02-0.04503925j,  2.62562037e-01-0.6338808j ,\n",
       "         0.00000000e+00+0.22168992j, -3.59337091e-01-0.86751634j,\n",
       "        -5.04673719e-01-0.5046737j , -1.04617524e+00-0.43333998j,\n",
       "        -1.35109961e+00+0.j        ,  1.24430156e+00-0.51540655j,\n",
       "        -5.44167995e-01+0.544168j  ,  5.31550407e-01-1.2832761j ,\n",
       "         0.00000000e+00+0.82081556j, -3.80165458e-01-0.9178004j ,\n",
       "         4.55261707e-01+0.4552617j , -6.24624729e-01-0.25872803j],\n",
       "       [-2.29701787e-01+0.j        ,  2.69976676e-01-0.111828j  ,\n",
       "         4.06183332e-01-0.40618333j,  1.85698092e-01-0.44831488j,\n",
       "         0.00000000e+00-0.18779324j,  2.05307722e-01+0.49565664j,\n",
       "        -3.72483015e-01-0.372483j  ,  5.50484717e-01+0.22801822j,\n",
       "        -1.68789124e+00+0.j        , -8.86247873e-01+0.36709592j,\n",
       "         2.21235931e-01-0.22123596j, -3.18179011e-01+0.76815206j,\n",
       "         0.00000000e+00+1.5484071j ,  7.16836005e-02+0.17305951j,\n",
       "         4.53202307e-01+0.4532023j , -2.55204499e-01-0.10570917j],\n",
       "       [ 6.24338865e-01+0.j        , -3.72154772e-01+0.15415156j,\n",
       "        -1.29257202e-01+0.1292572j , -1.85114980e-01+0.446907j  ,\n",
       "         0.00000000e+00+0.36178526j, -3.01274180e-01-0.72734016j,\n",
       "         8.08870435e-01+0.8088705j ,  3.94388556e-01+0.16336107j,\n",
       "        -4.85594988e-01+0.j        , -1.88223064e-01+0.07796454j,\n",
       "         6.92725778e-01-0.6927258j ,  3.54431123e-02-0.08556722j,\n",
       "         0.00000000e+00-0.2663512j , -1.86897768e-03-0.00451211j,\n",
       "        -6.80543602e-01-0.6805436j , -2.73168623e-01-0.11315014j],\n",
       "       [ 1.23378348e+00+0.j        , -1.24081922e+00+0.5139641j ,\n",
       "         7.26994276e-01-0.7269943j , -2.10032344e-01+0.50706285j,\n",
       "         0.00000000e+00+0.03197126j, -5.54272830e-02-0.13381328j,\n",
       "         3.59087765e-01+0.35908774j, -2.13549942e-01-0.08845527j,\n",
       "        -1.53447792e-01+0.j        ,  2.66997337e-01-0.11059391j,\n",
       "        -1.17579892e-01+0.11757989j,  4.14874792e-01-1.0015963j ,\n",
       "         0.00000000e+00+1.0046738j ,  2.02290714e-03+0.00488373j,\n",
       "        -6.80202022e-02-0.0680202j ,  1.80357888e-01+0.07470668j],\n",
       "       [ 7.33420610e-01+0.j        ,  1.23216748e+00-0.51038045j,\n",
       "        -4.13699687e-01+0.4136997j , -2.95885861e-01+0.7143315j ,\n",
       "         0.00000000e+00+0.17733254j, -2.44311690e-01-0.5898207j ,\n",
       "         4.47851002e-01+0.447851j  , -5.62165976e-01-0.23285678j,\n",
       "        -1.56798553e+00+0.j        ,  7.15082765e-01-0.29619697j,\n",
       "        -3.43496382e-01+0.34349638j, -1.98670268e-01+0.47963244j,\n",
       "         0.00000000e+00-0.13737607j, -2.48971820e-01-0.6010711j ,\n",
       "        -3.92723292e-01-0.3927233j ,  4.74314958e-01+0.19646768j],\n",
       "       [-1.09744811e+00+0.j        ,  6.18149757e-01-0.25604603j,\n",
       "        -1.10316314e-02+0.01103163j,  2.91423425e-02-0.07035583j,\n",
       "         0.00000000e+00-0.33314794j, -1.67273134e-02-0.04038329j,\n",
       "         2.90883422e-01+0.29088342j,  1.33652594e-02+0.00553607j,\n",
       "         8.94078135e-01+0.j        ,  2.00881749e-01-0.08320793j,\n",
       "         2.13833272e-01-0.21383326j, -1.15595788e-01+0.27907294j,\n",
       "         0.00000000e+00+0.9035878j ,  3.46631348e-01+0.83684206j,\n",
       "        -2.11102307e-01-0.2111023j , -8.28760624e-01-0.34328386j],\n",
       "       [-1.50602013e-01+0.j        , -1.47337496e-01+0.06102918j,\n",
       "         3.50549966e-01-0.35054997j,  1.98458493e-01-0.47912118j,\n",
       "         0.00000000e+00+0.6622754j ,  2.73947597e-01+0.6613681j ,\n",
       "         9.84765440e-02+0.09847654j, -1.25865385e-01-0.05213515j,\n",
       "        -4.61877286e-02+0.j        , -2.19681591e-01+0.09099508j,\n",
       "         7.88588449e-03-0.00788588j,  3.79542857e-02-0.09162974j,\n",
       "         0.00000000e+00+0.2662979j , -3.62520199e-03-0.00875201j,\n",
       "        -8.24185371e-01-0.8241854j , -6.88710451e-01-0.28527322j],\n",
       "       [ 1.49969995e-01+0.j        ,  5.68390369e-01-0.23543501j,\n",
       "        -8.80025923e-01+0.8800259j ,  2.11499810e-01-0.5106057j ,\n",
       "         0.00000000e+00+0.10041511j,  8.50926042e-02+0.20543168j,\n",
       "        -3.09808969e-01-0.30980894j, -1.00926769e+00-0.41805238j,\n",
       "        -4.31785822e-01+0.j        ,  9.07131195e-01-0.37574604j,\n",
       "        -2.44865835e-01+0.2448658j , -3.65821838e-01+0.88317186j,\n",
       "         0.00000000e+00-0.67898506j,  4.62546229e-01+1.1166853j ,\n",
       "         9.14040804e-02+0.09140408j, -6.59285784e-01-0.2730851j ],\n",
       "       [-1.04949343e+00+0.j        , -4.92174596e-01+0.2038654j ,\n",
       "         3.93371105e-01-0.3933711j , -2.78560491e-03+0.00672504j,\n",
       "         0.00000000e+00+0.7378344j , -1.07804835e-01-0.26026395j,\n",
       "         2.31769592e-01+0.23176962j, -4.78343904e-01-0.19813655j,\n",
       "        -1.53655362e+00+0.j        , -1.28513265e+00+0.53231937j,\n",
       "        -2.69713819e-01+0.26971382j, -6.54533505e-02+0.15801832j,\n",
       "         0.00000000e+00+0.232876j  , -1.40163064e-01-0.33838356j,\n",
       "         1.64729118e-01+0.16472912j,  1.33253980e+00+0.55195606j],\n",
       "       [ 2.63744891e-01+0.j        ,  2.11146981e-01-0.08745994j,\n",
       "        -1.18540898e-02+0.01185409j,  3.16011727e-01-0.76291966j,\n",
       "         0.00000000e+00+0.24332559j,  2.61125505e-01+0.63041276j,\n",
       "         3.20774913e-01+0.3207749j ,  7.83171892e-01+0.32440042j,\n",
       "         2.64689147e-01+0.j        ,  2.32470393e-01-0.09629238j,\n",
       "         7.74435759e-01-0.7744357j ,  2.72552848e-01-0.65800065j,\n",
       "         0.00000000e+00-0.5267597j ,  1.39299870e-01+0.33629963j,\n",
       "        -3.95466566e-01-0.39546657j,  1.51108384e-01+0.06259114j]],      dtype=complex64)"
      ]
     },
     "execution_count": 18,
     "metadata": {},
     "output_type": "execute_result"
    }
   ],
   "source": [
    "zz2 - images"
   ]
  },
  {
   "cell_type": "code",
   "execution_count": 11,
   "metadata": {},
   "outputs": [
    {
     "data": {
      "text/plain": [
       "Array([[-0.5001324 , -1.3597883 , -1.2380376 ,  0.15509816, -0.81826395,\n",
       "        -0.18324125,  1.0650054 ,  0.5525504 ,  0.5462495 , -0.3331034 ,\n",
       "         2.2835262 , -1.2600467 , -0.1490634 ,  0.27004755,  0.01269406,\n",
       "         0.59460986],\n",
       "       [-0.2930674 ,  1.0417849 ,  0.6545924 , -1.3174285 , -0.1738749 ,\n",
       "        -1.290794  , -0.80717254,  0.9356851 , -0.9162681 ,  1.0071119 ,\n",
       "        -0.0402077 , -2.071015  , -0.59049225, -0.52202755, -1.0324434 ,\n",
       "         1.1012015 ],\n",
       "       [-0.39333105,  0.79830486,  1.4845008 ,  0.3166993 , -0.3119305 ,\n",
       "         0.9557524 ,  0.29664594, -1.8315774 , -0.5651391 ,  0.440353  ,\n",
       "         0.32719845,  0.77483   ,  0.3619021 ,  0.21194611,  0.13775331,\n",
       "        -0.52927   ],\n",
       "       [ 2.245849  , -0.66762286,  1.0618918 ,  0.598077  , -0.03861399,\n",
       "         1.9360032 , -0.31343123, -0.10289393,  0.05685399, -0.79681313,\n",
       "        -0.27008432, -0.7135858 ,  0.04568695,  0.49064544, -0.18304883,\n",
       "         1.0284085 ],\n",
       "       [ 0.6718524 , -0.3059054 , -0.05610429,  0.957398  , -0.23486689,\n",
       "         0.8360225 , -0.32640955,  1.0642902 , -1.2961905 ,  0.36233377,\n",
       "         1.6123238 ,  1.4162337 , -0.07369478,  1.4921737 ,  2.629491  ,\n",
       "        -0.2928188 ],\n",
       "       [ 2.0001826 ,  0.526027  , -0.56683683, -0.11949149,  1.2128142 ,\n",
       "         0.6577715 , -1.1740448 , -1.7121845 , -0.6446329 ,  0.3402514 ,\n",
       "         0.30589992, -0.35999578,  1.5766898 ,  0.18754536, -0.38536876,\n",
       "         1.0169499 ],\n",
       "       [ 0.6394829 , -0.14395319,  0.5593086 , -0.8143724 ,  0.38478568,\n",
       "         0.31307283, -1.3192854 , -0.66540515, -0.18282373, -0.8548933 ,\n",
       "        -1.395278  ,  0.9742511 , -1.3853825 ,  1.537245  ,  0.95603937,\n",
       "         0.30872005],\n",
       "       [-0.6191175 , -0.8938921 ,  0.33075333,  0.63570404,  1.3141671 ,\n",
       "        -1.8119059 , -1.6962721 , -0.09400056,  1.300341  , -2.0040112 ,\n",
       "         1.2458866 ,  1.4223197 ,  0.10180769, -1.3946464 ,  0.01542242,\n",
       "        -1.1030768 ],\n",
       "       [ 1.0336655 , -0.42984015, -0.17852496,  1.3127451 ,  0.34108037,\n",
       "        -0.48025954,  2.6423786 ,  0.3127146 ,  0.8557993 , -0.4984269 ,\n",
       "        -1.2901859 , -0.8938054 , -1.9916031 , -1.0154818 ,  2.7792037 ,\n",
       "        -0.7140617 ],\n",
       "       [ 2.3588576 , -0.09645782,  0.09067673, -0.5265977 , -1.0158678 ,\n",
       "         0.27674443, -0.07791944, -1.6567926 , -0.24746363, -0.38617507,\n",
       "         0.43026775, -0.74692214, -0.5872572 ,  0.4154178 ,  1.9932238 ,\n",
       "        -0.8352583 ],\n",
       "       [-3.4165869 ,  0.90961176,  0.4615866 ,  1.1448269 ,  0.15311071,\n",
       "        -0.09736522,  0.48020765, -1.4238467 ,  0.58325654,  0.75133556,\n",
       "        -1.2928002 , -1.6257116 ,  0.39577806, -0.99903107,  1.5941612 ,\n",
       "        -0.0279739 ],\n",
       "       [ 1.7162911 , -0.14647177,  0.581486  ,  0.09358615,  0.13247296,\n",
       "         0.10908618,  0.02576845, -0.4591094 , -1.4202234 ,  0.02243357,\n",
       "        -2.0274384 ,  1.0130017 ,  3.2565582 , -1.581773  ,  0.534768  ,\n",
       "        -0.7385939 ],\n",
       "       [ 1.0238398 , -0.6625105 , -0.01495835,  0.15037212,  0.3791894 ,\n",
       "        -0.03292417, -1.0442779 , -1.1883696 ,  0.07553233,  0.65896446,\n",
       "         1.5698969 ,  0.673673  , -1.3977998 , -0.7407315 ,  0.21669629,\n",
       "         1.9647756 ],\n",
       "       [ 0.10380796,  1.2261287 , -0.02095775,  1.639621  , -0.77566427,\n",
       "         0.12227598,  1.4014827 ,  0.6120466 , -0.4834156 , -0.01875897,\n",
       "         2.0727549 , -0.7813789 ,  1.1141278 ,  0.6288032 ,  1.891275  ,\n",
       "         1.0180559 ],\n",
       "       [-0.00676499, -0.5064015 , -1.6010712 ,  0.6424327 ,  0.24852245,\n",
       "         1.6094558 ,  0.8684216 ,  1.6126589 ,  1.3898906 ,  0.7573946 ,\n",
       "         0.01921713,  0.12368303,  0.67422605, -0.15729114,  0.09978954,\n",
       "         0.21376659],\n",
       "       [ 1.466524  , -0.47589898, -0.04652423, -1.3399594 , -0.56099147,\n",
       "        -0.07742777,  1.0670784 ,  0.10559745,  1.5299629 , -2.4073386 ,\n",
       "        -0.6174243 ,  0.373045  , -0.0135177 , -0.43848282, -0.93854266,\n",
       "         0.3447494 ]], dtype=float32)"
      ]
     },
     "execution_count": 11,
     "metadata": {},
     "output_type": "execute_result"
    }
   ],
   "source": [
    "zz"
   ]
  },
  {
   "cell_type": "code",
   "execution_count": 2,
   "metadata": {},
   "outputs": [],
   "source": [
    "import matplotlib.pyplot as plt\n",
    "plt.imshow(zz.reshape(image_shape))"
   ]
  },
  {
   "cell_type": "code",
   "execution_count": 31,
   "metadata": {},
   "outputs": [
    {
     "data": {
      "text/plain": [
       "16.21049"
      ]
     },
     "execution_count": 31,
     "metadata": {},
     "output_type": "execute_result"
    }
   ],
   "source": [
    "np.linalg.norm(zz2 -images.reshape(-1))"
   ]
  },
  {
   "cell_type": "code",
   "execution_count": 32,
   "metadata": {},
   "outputs": [
    {
     "data": {
      "text/plain": [
       "16.21049"
      ]
     },
     "execution_count": 32,
     "metadata": {},
     "output_type": "execute_result"
    }
   ],
   "source": [
    "np.linalg.norm(zz -zz2)"
   ]
  },
  {
   "cell_type": "code",
   "execution_count": 17,
   "metadata": {},
   "outputs": [
    {
     "data": {
      "text/plain": [
       "Array([ 2.24570617e-01-0.05218051j,  1.21964961e-01-0.05377116j,\n",
       "       -3.43184918e-01-0.05979131j,  3.42582941e-01+0.00608433j,\n",
       "        6.47728086e-01+0.05214109j, -1.97397575e-01+0.04597701j,\n",
       "       -1.29346862e-01-0.01691876j, -5.46820462e-01-0.01246638j,\n",
       "       -3.38805616e-01+0.02908821j, -4.46732230e-02-0.01592902j,\n",
       "        1.82450324e-01-0.05319325j,  4.26843315e-01-0.04352197j,\n",
       "        6.00680709e-01+0.03521341j, -6.60389662e-03+0.0512641j ,\n",
       "       -3.21890153e-02+0.06564112j, -7.86426663e-01+0.02236308j,\n",
       "       -1.16325110e-01+0.01026266j,  1.44475043e-01-0.01384853j,\n",
       "        2.43504569e-02+0.01825916j,  7.10990429e-02+0.01389171j,\n",
       "       -1.34273916e-01+0.05694008j, -2.76776016e-01+0.0348064j ,\n",
       "       -1.04504898e-01-0.02140396j, -1.01398326e-01-0.06181827j,\n",
       "        1.14369653e-01-0.03845822j,  2.74810791e-01-0.03948987j,\n",
       "       -1.94432750e-01+0.00093914j, -1.56477779e-01+0.09117284j,\n",
       "        1.77548379e-01+0.07780351j,  7.34612569e-02-0.01488921j,\n",
       "        4.03041869e-01-0.01999869j, -1.09248273e-01-0.04434137j,\n",
       "        1.66734129e-01+0.03048011j, -2.38674074e-01+0.01984656j,\n",
       "       -2.02804446e-01-0.02666458j,  1.99407279e-01-0.05847586j,\n",
       "        2.52882987e-02-0.03882106j, -9.92362350e-02-0.05046991j,\n",
       "       -1.28763407e-01-0.02584125j,  1.71336439e-02+0.03577468j,\n",
       "        1.92953214e-01+0.0069109j , -6.19329475e-02+0.04685138j,\n",
       "        7.44068697e-02+0.01810143j,  4.37243879e-02+0.06198414j,\n",
       "        1.44599646e-01-0.02921481j, -3.89309451e-02-0.00273336j,\n",
       "       -1.42734498e-01-0.0119266j ,  2.53470451e-01-0.01855399j,\n",
       "       -2.93733105e-02+0.01878525j,  5.70881590e-02-0.01908838j,\n",
       "        8.55677947e-03-0.09177093j,  2.02532485e-02-0.03094806j,\n",
       "       -3.98840047e-02-0.02933506j,  9.47524980e-03+0.00810613j,\n",
       "        2.99447738e-02-0.01247983j,  8.25910121e-02-0.03021237j,\n",
       "       -8.96859728e-03-0.01825626j, -9.32235271e-05-0.03004287j,\n",
       "        6.31504953e-02-0.00886372j,  5.39276749e-03-0.00910156j,\n",
       "        4.03340831e-02-0.04986254j, -5.37718832e-03-0.02073956j,\n",
       "       -8.21814314e-03-0.03354044j, -3.96617949e-02-0.02305212j,\n",
       "       -3.42634022e-01-0.03625143j,  7.25911438e-01-0.0593974j ,\n",
       "       -3.27968970e-02-0.03245115j, -9.68627259e-03+0.0295988j ,\n",
       "       -9.03258920e-02+0.00018741j,  3.40879977e-01-0.04983046j,\n",
       "       -5.87324977e-01+0.0004298j ,  1.76655203e-01+0.03230532j,\n",
       "        3.31298560e-01+0.00614504j, -1.86302476e-02+0.00459375j,\n",
       "        2.26762202e-02+0.00524057j, -9.11279321e-02+0.0217612j ,\n",
       "        2.29720563e-01-0.0185421j , -6.30617142e-01-0.01739442j,\n",
       "       -9.91698205e-02+0.0077187j , -3.92889798e-01-0.00444652j,\n",
       "        7.83496976e-01+0.00235871j, -5.69032133e-01-0.00218295j,\n",
       "       -8.50751996e-04+0.00232049j, -4.67140883e-01+0.02556651j,\n",
       "       -2.13345587e-01+0.0096085j , -1.07312429e+00-0.02009503j,\n",
       "        1.26631880e+00-0.00103452j,  8.59607279e-01-0.02632299j,\n",
       "       -8.56378451e-02-0.03373761j, -9.83083099e-02+0.026609j  ,\n",
       "        6.68102086e-01-0.00281406j, -5.16804159e-01-0.03806946j,\n",
       "        5.98291457e-01+0.01157439j, -1.40629128e-01-0.05324325j,\n",
       "       -9.60691035e-01+0.04499947j,  1.21521994e-01+0.02850851j,\n",
       "        5.61748028e-01-0.00622534j,  3.83996069e-01-0.01380667j,\n",
       "       -5.40199161e-01+0.00819761j,  1.03987765e+00-0.00288439j,\n",
       "        7.61540711e-01+0.03578578j, -7.70726919e-01+0.00427519j,\n",
       "       -2.14854822e-01-0.03710901j, -1.52422547e-01+0.00950274j,\n",
       "        7.66665488e-02+0.0025716j ,  2.63557404e-01-0.00913998j,\n",
       "        5.80508888e-01-0.04088845j, -8.50589931e-01-0.07946907j,\n",
       "       -5.81445932e-01-0.02059788j, -9.33301270e-01+0.01745122j,\n",
       "       -1.39545226e+00-0.04602222j, -9.52389717e-01-0.05909256j,\n",
       "       -4.91351277e-01-0.03075137j,  1.46619117e+00+0.0053615j ,\n",
       "       -9.44836318e-01+0.0010249j , -7.00785890e-02+0.05381467j,\n",
       "       -1.11085343e+00+0.01983526j,  1.56694806e+00-0.01335112j,\n",
       "       -7.94140935e-01-0.04612956j, -2.13354659e+00-0.01851285j,\n",
       "        1.69133365e+00-0.03963391j,  5.45054853e-01-0.04877953j,\n",
       "       -1.69295549e-01-0.02192637j, -4.08898145e-01-0.05553174j,\n",
       "        3.27014416e-01-0.00732229j,  1.20016301e+00+0.03728174j,\n",
       "        3.84028703e-01+0.01509109j, -1.36005092e+00+0.00783949j,\n",
       "       -7.32767165e-01-0.01455307j, -5.57199061e-01-0.0208207j ,\n",
       "       -2.04417661e-01-0.00975249j, -1.94888222e+00+0.04120956j,\n",
       "       -1.18967021e+00-0.03319859j, -1.34235881e-02-0.02460614j,\n",
       "       -3.28414708e-01-0.01981041j, -8.92535329e-01-0.00802486j,\n",
       "        3.20910692e-01+0.01872468j, -1.24850476e+00+0.01055824j,\n",
       "        3.83841366e-01+0.05258885j, -1.55376613e+00-0.0206378j ,\n",
       "       -2.30955863e+00-0.01480218j, -7.78417945e-01+0.01608468j,\n",
       "        1.11158527e-02+0.02080321j, -7.47407079e-01+0.00623703j,\n",
       "       -1.23829432e-01-0.0048796j ,  1.62143290e+00-0.0316663j ,\n",
       "       -8.22738528e-01-0.02819379j,  5.22458613e-01+0.04558911j,\n",
       "        3.52332354e-01+0.03052175j,  1.01969707e+00+0.03547587j,\n",
       "       -1.41027287e-01+0.05296826j, -8.13131690e-01+0.01766604j,\n",
       "       -9.98002231e-01+0.04160982j, -4.35271621e-01+0.02905894j,\n",
       "       -1.24241912e+00+0.009478j  , -1.14002442e+00-0.05504646j,\n",
       "        6.38957500e-01-0.01696108j,  2.33598137e+00-0.01663028j,\n",
       "       -1.52118897e+00+0.0252689j ,  5.92847049e-01+0.00743093j,\n",
       "       -3.72862488e-01+0.06803685j, -1.59300342e-01+0.00772509j,\n",
       "        7.47010827e-01-0.01272249j, -9.88466680e-01+0.0602963j ,\n",
       "       -2.92699188e-01+0.06533432j,  4.46129590e-01+0.0224287j ,\n",
       "       -1.33209363e-01+0.00988141j, -4.29299086e-01-0.01991706j,\n",
       "       -1.73727542e-01+0.02172846j, -5.33095002e-01+0.0263852j ,\n",
       "        6.51167810e-01-0.0344319j ,  4.27002870e-02-0.00743424j,\n",
       "       -5.62529981e-01-0.01170898j, -3.68793339e-01+0.01107759j,\n",
       "        2.95666575e-01-0.00182976j,  6.51284680e-02+0.03260191j,\n",
       "        8.09256256e-01-0.07126309j,  3.77994865e-01+0.03277327j,\n",
       "        7.11490154e-01+0.00276379j, -1.70326293e-01+0.01978749j,\n",
       "       -1.99471086e-01+0.03108352j, -7.49156952e-01-0.02789261j,\n",
       "        4.05645937e-01+0.00580915j,  7.39794225e-02+0.0385574j ,\n",
       "       -1.36670336e-01+0.00519066j, -4.20605242e-01+0.01662533j,\n",
       "       -4.62631255e-01+0.00913048j, -8.77158493e-02-0.02362926j,\n",
       "       -2.31171921e-01-0.01412874j,  5.36864698e-01+0.00198608j,\n",
       "       -4.00155365e-01-0.00186113j, -3.26439440e-01+0.00102195j,\n",
       "        7.24907935e-01-0.00637119j, -1.37372553e-01+0.00130232j,\n",
       "       -1.71064213e-02+0.02982952j, -1.38922587e-01-0.00894289j,\n",
       "       -3.06097448e-01-0.01136727j,  4.34959024e-01-0.00746555j,\n",
       "        4.27888595e-02+0.00146028j,  1.35861129e-01-0.02233953j,\n",
       "       -3.63379866e-01-0.02939855j,  1.90738589e-03+0.03528843j,\n",
       "        3.35415274e-01+0.0335016j ,  1.80989504e-02-0.02877723j,\n",
       "        1.76639408e-01-0.0021044j ,  3.47054660e-01+0.05103083j,\n",
       "        2.20861942e-01+0.05197316j, -3.41399640e-01+0.02271336j,\n",
       "       -1.18086338e-01+0.03683145j, -1.68466605e-02+0.01537312j,\n",
       "       -2.93870345e-02+0.04606213j,  3.71991396e-02+0.02960719j,\n",
       "        4.36422005e-02+0.00201607j, -9.10000503e-03+0.02507939j,\n",
       "        4.54610679e-03+0.02044518j,  4.02118601e-02+0.0249354j ,\n",
       "        2.94820815e-02+0.0305692j , -1.74497478e-02-0.01199615j,\n",
       "       -1.06087588e-01+0.02155652j,  6.52801991e-02+0.01004379j,\n",
       "        9.98011753e-02+0.07811169j, -4.59931754e-02+0.06281965j,\n",
       "        5.53585961e-02-0.01026869j,  1.14551038e-02-0.00078361j,\n",
       "       -1.07702091e-01+0.0251991j ,  1.28482617e-02-0.01241515j,\n",
       "       -4.93866354e-02+0.04727314j, -4.28233556e-02-0.03940273j,\n",
       "       -1.37231639e-02-0.02347516j, -1.75333828e-01-0.04944544j,\n",
       "       -1.03239432e-01-0.01204862j,  1.42619669e-01-0.03486338j,\n",
       "       -1.04049981e-01-0.00903729j,  1.41177103e-01+0.04560857j,\n",
       "       -3.86142403e-01+0.03718441j,  5.07913306e-02+0.05428876j,\n",
       "        5.29404767e-02+0.04859097j,  1.26010716e-01+0.00731427j,\n",
       "       -1.52391076e-01-0.03671069j,  6.70753419e-03-0.00530851j,\n",
       "        2.53439069e-01+0.02390555j, -1.03876635e-01+0.03522536j,\n",
       "        1.47524044e-01-0.02745232j,  4.24254149e-01-0.1025969j ,\n",
       "        1.14562362e-01-0.05114739j,  7.54749835e-01+0.02597973j,\n",
       "       -9.77355018e-02+0.0305845j ,  9.96094286e-01+0.05786187j,\n",
       "        1.81640834e-01+0.04768979j,  2.11541861e-01+0.00048467j,\n",
       "        3.22450578e-01-0.06094187j, -2.30268657e-01-0.02546887j,\n",
       "        2.73573041e-01-0.02992671j,  4.99838769e-01+0.01333256j,\n",
       "        8.25643778e-01-0.01705522j, -2.22412348e-01+0.02969785j],      dtype=complex64)"
      ]
     },
     "execution_count": 17,
     "metadata": {},
     "output_type": "execute_result"
    }
   ],
   "source": [
    "zz2 - zz"
   ]
  },
  {
   "cell_type": "code",
   "execution_count": 5,
   "metadata": {},
   "outputs": [
    {
     "name": "stdout",
     "output_type": "stream",
     "text": [
      "Automatic pdb calling has been turned ON\n"
     ]
    }
   ],
   "source": [
    "pdb"
   ]
  },
  {
   "cell_type": "code",
   "execution_count": 5,
   "metadata": {},
   "outputs": [
    {
     "name": "stdout",
     "output_type": "stream",
     "text": [
      "Automatic pdb calling has been turned ON\n"
     ]
    }
   ],
   "source": [
    "pdb"
   ]
  },
  {
   "cell_type": "code",
   "execution_count": 2,
   "metadata": {},
   "outputs": [
    {
     "ename": "NameError",
     "evalue": "name 'zz' is not defined",
     "output_type": "error",
     "traceback": [
      "\u001b[0;31m---------------------------------------------------------------------------\u001b[0m",
      "\u001b[0;31mNameError\u001b[0m                                 Traceback (most recent call last)",
      "Cell \u001b[0;32mIn[2], line 1\u001b[0m\n\u001b[0;32m----> 1\u001b[0m \u001b[43mzz\u001b[49m\n",
      "\u001b[0;31mNameError\u001b[0m: name 'zz' is not defined"
     ]
    }
   ],
   "source": [
    "zz"
   ]
  },
  {
   "cell_type": "code",
   "execution_count": null,
   "metadata": {},
   "outputs": [],
   "source": []
  },
  {
   "cell_type": "code",
   "execution_count": null,
   "metadata": {},
   "outputs": [],
   "source": []
  }
 ],
 "metadata": {
  "kernelspec": {
   "display_name": "recovar",
   "language": "python",
   "name": "recovar"
  },
  "language_info": {
   "codemirror_mode": {
    "name": "ipython",
    "version": 3
   },
   "file_extension": ".py",
   "mimetype": "text/x-python",
   "name": "python",
   "nbconvert_exporter": "python",
   "pygments_lexer": "ipython3",
   "version": "3.9.18"
  }
 },
 "nbformat": 4,
 "nbformat_minor": 2
}
